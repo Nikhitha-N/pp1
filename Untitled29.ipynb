{
  "nbformat": 4,
  "nbformat_minor": 0,
  "metadata": {
    "colab": {
      "provenance": []
    },
    "kernelspec": {
      "name": "python3",
      "display_name": "Python 3"
    },
    "language_info": {
      "name": "python"
    }
  },
  "cells": [
    {
      "cell_type": "code",
      "source": [
        "import re\n",
        "import requests\n",
        "from bs4 import BeautifulSoup\n",
        "import json\n",
        "\n",
        "def extract_information(url):\n",
        "    response = requests.get(url)\n",
        "    if response.status_code == 200:\n",
        "        html_content = response.text\n",
        "    else:\n",
        "        print(\"Failed to retrieve the webpage:\", response.status_code)\n",
        "        return None\n",
        "\n",
        "    soup = BeautifulSoup(html_content, \"html.parser\")\n",
        "\n",
        "    # Extract Title\n",
        "    title = soup.title.string if soup.title else \"\"\n",
        "\n",
        "    # Extract Meta Description\n",
        "    meta_description = soup.find(\"meta\", attrs={\"name\": \"description\"})\n",
        "    meta_description = meta_description[\"content\"] if meta_description else \"\"\n",
        "\n",
        "    # Extract Header Tags\n",
        "    header_tags = [header.text.strip() for header in soup.find_all([\"h1\", \"h2\", \"h3\"])]\n",
        "\n",
        "    # Extract Text Content\n",
        "    text_content = soup.get_text(strip=True)\n",
        "\n",
        "    # Extract Images\n",
        "    images = [image['src'] for image in soup.find_all('img')]\n",
        "\n",
        "    # Extract Links\n",
        "    links = [link['href'] for link in soup.find_all('a', href=True)]\n",
        "\n",
        "    # Extract Contact Information\n",
        "    contact_info = re.findall(r'(\\+\\d{1,3}\\s)?\\(?\\d{3}\\)?[\\s.-]?\\d{3}[\\s.-]?\\d{4}', html_content)\n",
        "    contact_info = [re.sub(r'[^\\d-]', '', info) for info in contact_info]\n",
        "\n",
        "    # Create a dictionary to store the extracted information\n",
        "    data = {\n",
        "        \"url\": url,\n",
        "        \"title\": title,\n",
        "        \"meta_description\": meta_description,\n",
        "        \"header_tags\": header_tags,\n",
        "        \"text_content\": text_content,\n",
        "        \"images\": images,\n",
        "        \"links\": links,\n",
        "        \"contact_info\": contact_info\n",
        "    }\n",
        "\n",
        "    return data\n",
        "\n",
        "\n",
        "def save_to_json(data, output_file):\n",
        "    with open(output_file, \"w\") as json_file:\n",
        "        json.dump(data, json_file, indent=4)\n",
        "    print(\"Data saved to\", output_file)\n",
        "\n",
        "\n",
        "# Example usage\n",
        "url = input(\"Enter the Url\").strip()\n",
        "output_file = \"website_data.json\"\n",
        "\n",
        "extracted_data = extract_information(url)\n",
        "if extracted_data:\n",
        "    save_to_json(extracted_data, output_file)"
      ],
      "metadata": {
        "colab": {
          "base_uri": "https://localhost:8080/"
        },
        "id": "myebICLS2tW6",
        "outputId": "b503cf3f-d18c-48a4-f496-2567ae6d7905"
      },
      "execution_count": null,
      "outputs": [
        {
          "output_type": "stream",
          "name": "stdout",
          "text": [
            "Enter the Urlhttps://www.amazon.in/\n",
            "Data saved to website_data.json\n"
          ]
        }
      ]
    },
    {
      "cell_type": "code",
      "source": [
        "import json\n",
        "\n",
        "# Define the path to the JSON file\n",
        "json_file = \"website_data.json\"\n",
        "\n",
        "# Load the JSON data\n",
        "with open(json_file) as file:\n",
        "    data = json.load(file)\n",
        "\n",
        "# Print the loaded data\n",
        "print(data)\n"
      ],
      "metadata": {
        "colab": {
          "base_uri": "https://localhost:8080/"
        },
        "id": "J17lGd_b3A1U",
        "outputId": "b713b7c8-d001-47cd-8f38-ade8721521e5"
      },
      "execution_count": null,
      "outputs": [
        {
          "output_type": "stream",
          "name": "stdout",
          "text": [
            "{'url': 'https://www.amazon.in/', 'title': 'Online Shopping site in India: Shop Online for Mobiles, Books, Watches, Shoes and More - Amazon.in', 'meta_description': 'Amazon.in: Online Shopping India - Buy mobiles, laptops, cameras, books, watches, apparel, shoes and e-Gift Cards. Free Shipping & Cash on Delivery Available.', 'header_tags': ['Makeup products', 'New looks for the new season', 'Do up your home', 'Smart gadgets by Amazon', 'Value bazaar', 'Work from home essentials', 'Revamp your home in style', 'Innovations from Emerging Indian Brands'], 'text_content': \"Online Shopping site in India: Shop Online for Mobiles, Books, Watches, Shoes and More - Amazon.inSkip to main content.inDelivering to Mumbai 400001Update locationAllSelect the department you want to search inAll CategoriesAlexa SkillsAmazon DevicesAmazon FashionAmazon FreshAmazon PharmacyAppliancesApps & GamesAudible AudiobooksBabyBeautyBooksCar & MotorbikeClothing & AccessoriesCollectiblesComputers & AccessoriesElectronicsFurnitureGarden & OutdoorsGift CardsGrocery & Gourmet FoodsHealth & Personal CareHome & KitchenIndustrial & ScientificJewelleryKindle StoreLuggage & BagsLuxury BeautyMovies & TV ShowsMusicMusical InstrumentsOffice ProductsPet SuppliesPrime VideoShoes & HandbagsSoftwareSports, Fitness & OutdoorsSubscribe & SaveTools & Home ImprovementToys & GamesUnder ₹500Video GamesWatchesSearch Amazon.inENHello, sign inAccount & ListsReturns& OrdersCartAllAmazon miniTVSellBest SellersToday's DealsMobilesCustomer ServiceElectronicsPrimeNew ReleasesHome & KitchenGift IdeasFashionComputersAmazon PayBooksCouponsBeauty & Personal CareToys & GamesSports, Fitness & OutdoorsGrocery & Gourmet FoodsHome ImprovementCar & MotorbikeHealth, Household & Personal CareGift CardsBabyVideo GamesSubscribe & SavePet SuppliesAudibleAmazonBasicsKindle eBooksPrevious slideNext slideMakeup productsSee moreNew looks for the new seasonShop fashionDo up your homeSee moreSmart gadgets by AmazonShop nowValue bazaarShop daily essentialsWork from home essentialsRoutersLaptopsKeyboards, mice & moreHeadphonesSee moreRevamp your home in styleBedsheets, curtains & moreHome decorationHome storageLighting solutionsExplore allInnovations from Emerging Indian BrandsExplore more startupsYour recently viewed items and featured recommendations›View or edit your browsing historyAfter viewing product detail pages, look here to find an easy way to navigate back to pages you are interested in.Your recently viewed items and featured recommendations›View or edit your browsing historyAfter viewing product detail pages, look here to find an easy way to navigate back to pages you are interested in.Back to topGet to Know UsAbout UsCareersPress ReleasesAmazon ScienceConnect with UsFacebookTwitterInstagramMake Money with UsSell on AmazonSell under Amazon AcceleratorProtect and Build Your BrandAmazon Global SellingBecome an AffiliateFulfilment by AmazonAdvertise Your ProductsAmazon Pay on MerchantsLet Us Help YouCOVID-19 and AmazonYour AccountReturns Centre100% Purchase ProtectionAmazon App DownloadHelpEnglishAustraliaBrazilCanadaChinaFranceGermanyItalyJapanMexicoNetherlandsPolandSingaporeSpainTurkeyUnited Arab EmiratesUnited KingdomUnited StatesAbeBooksBooks, art& collectiblesAmazon Web ServicesScalable CloudComputing ServicesAudibleDownloadAudio BooksIMDbMovies, TV& CelebritiesShopbopDesignerFashion BrandsAmazon BusinessEverything ForYour BusinessPrime Now2-Hour Deliveryon Everyday ItemsAmazon Prime Music100 million songs, ad-freeOver 15 million podcast episodesConditions of Use & SalePrivacy NoticeInterest-Based Ads© 1996-2023, Amazon.com, Inc. or its affiliates\", 'images': ['https://m.media-amazon.com/images/G/31/social_share/amazon_logo._CB633266945_.png', 'https://m.media-amazon.com/images/G/31/gno/sprites/nav-sprite-global-1x-hm-dsk-reorg._CB405936311_.png', 'https://m.media-amazon.com/images/G/31/Events/img23/Jupiter23/Homepage/Phase3/P3_SWM_400x39._CB575169081_.jpg', 'https://m.media-amazon.com/images/I/51Id5Jjpm-L._SX1500_.jpg', 'https://images-eu.ssl-images-amazon.com/images/G/31/img19/Beauty/GW/desktop/Make-up-CC_desktop_1x._SY304_CB466075850_.jpg', 'https://images-eu.ssl-images-amazon.com/images/G/31/Gateway/Events/2018/JupiterFallBack/Jupiter_bau_PC_top_card_fashion_1x._SY304_CB484150077_.jpg', 'https://images-eu.ssl-images-amazon.com/images/G/31/Gateway/Events/2018/JupiterFallBack/Jupiter_bau_PC_top_card_home_1x._SY304_CB484150079_.jpg', 'https://images-eu.ssl-images-amazon.com/images/G/31/img19/AmazonDevices/neel/March/1X._SY304_CB469330167_.jpg', 'https://images-eu.ssl-images-amazon.com/images/G/31/Gateway/Events/2018/JupiterFallBack/Jupiter_bau_PC_top_card_groceries_1x._SY304_CB484150076_.jpg', 'https://images-eu.ssl-images-amazon.com/images/G/31/img20/CEPC/Covid19/V195588257_IN_CEPC_Contingency_Covid_GW_April20_rush_dbqc0.5x_3._SY116_CB433895198_.jpg', 'https://images-eu.ssl-images-amazon.com/images/G/31/img20/CEPC/Covid19/V195588257_IN_CEPC_Contingency_Covid_GW_April20_rush_dbqc0.5x_4._SY116_CB433895198_.jpg', 'https://images-eu.ssl-images-amazon.com/images/G/31/img20/CEPC/Covid19/V195588257_IN_CEPC_Contingency_Covid_GW_April20_rush_dbqc0.5x_1._SY116_CB433895198_.jpg', 'https://images-eu.ssl-images-amazon.com/images/G/31/img20/CEPC/Covid19/V195588257_IN_CEPC_Contingency_Covid_GW_April20_rush_dbqc0.5x_2._SY116_CB433889427_.jpg', 'https://images-eu.ssl-images-amazon.com/images/G/31/IMG20/Home/BAU/GWPC/XCM_Manual_372x232_1212890_372X232_1_bd034eee_6f06_4e0a_9967_d0e0e5f7f932_jpg_LOWER_QL10_._SY116_CB423376243_.jpg', 'https://images-eu.ssl-images-amazon.com/images/G/31/IMG20/Home/BAU/GWPC/XCM_Manual_372x232_1212890_372X232_2_64e793dc_221d_4067_8fca_2f0338879977_jpg_LOWER_QL85_._SY116_CB423376243_.jpg', 'https://images-eu.ssl-images-amazon.com/images/G/31/IMG20/Home/BAU/GWPC/XCM_Manual_372x232_1212890_372X232_3_ccc0f761_ea08_4cfb_9562_6f13e80170d8_jpg_LOWER_QL30_._SY116_CB423376243_.jpg', 'https://images-eu.ssl-images-amazon.com/images/G/31/IMG20/Home/BAU/GWPC/XCM_Manual_372x232_1212890_372X232_4_bc4e9dc4_a3aa_4aae_93fd_9723dacd805f_jpg_LOWER_QL50_._SY116_CB423376243_.jpg', 'https://images-eu.ssl-images-amazon.com/images/G/31/img20/AmazonLaunchpad/Gateway/June/dhyana_02_379_304._SY304_CB429464454_.jpg', 'https://m.media-amazon.com/images/G/31/personalization/ybh/loading-4x-gray._CB485916689_.gif'], 'links': ['/ref=nav_logo', '/customer-preferences/edit?ie=UTF8&preferencesReturnUrl=%2F&ref_=topnav_lang', 'https://www.amazon.in/ap/signin?openid.pape.max_auth_age=0&openid.return_to=https%3A%2F%2Fwww.amazon.in%2F%3F_encoding%3DUTF8%26ref_%3Dnav_ya_signin&openid.identity=http%3A%2F%2Fspecs.openid.net%2Fauth%2F2.0%2Fidentifier_select&openid.assoc_handle=inflex&openid.mode=checkid_setup&openid.claimed_id=http%3A%2F%2Fspecs.openid.net%2Fauth%2F2.0%2Fidentifier_select&openid.ns=http%3A%2F%2Fspecs.openid.net%2Fauth%2F2.0', '/gp/css/order-history?ref_=nav_orders_first', 'https://www.amazon.in/gp/cart/view.html?ref_=nav_cart', '/gp/site-directory?ref_=nav_em_js_disabled', '/minitv?ref_=nav_avod_desktop_topnav', '/b/32702023031?node=32702023031&ld=AZINSOANavDesktop_T3&ref_=nav_cs_sell_T3', '/gp/bestsellers/?ref_=nav_cs_bestsellers', '/deals?ref_=nav_cs_gb', '/mobile-phones/b/?ie=UTF8&node=1389401031&ref_=nav_cs_mobiles', '/gp/help/customer/display.html?nodeId=200507590&ref_=nav_cs_help', '/electronics/b/?ie=UTF8&node=976419031&ref_=nav_cs_electronics', '/prime?ref_=nav_cs_primelink_nonmember', '/gp/new-releases/?ref_=nav_cs_newreleases', '/Home-Kitchen/b/?ie=UTF8&node=976442031&ref_=nav_cs_home', '/gcx/-/gfhz/?ref_=nav_cs_giftfinder', '/gp/browse.html?node=6648217031&ref_=nav_cs_fashion', '/computers-and-accessories/b/?ie=UTF8&node=976392031&ref_=nav_cs_pc', '/gp/sva/dashboard?ref_=nav_cs_apay', '/Books/b/?ie=UTF8&node=976389031&ref_=nav_cs_books', '/amazon-coupons/b/?_encoding=UTF8&node=10465704031&ref_=nav_cs_coupons', '/beauty/b/?ie=UTF8&node=1355016031&ref_=nav_cs_beauty', '/Toys-Games/b/?ie=UTF8&node=1350380031&ref_=nav_cs_toys', '/Sports/b/?ie=UTF8&node=1984443031&ref_=nav_cs_sports', '/Gourmet-Specialty-Foods/b/?ie=UTF8&node=2454178031&ref_=nav_cs_grocery', '/Home-Improvement/b/?ie=UTF8&node=4286640031&ref_=nav_cs_hi', '/Car-Motorbike-Store/b/?ie=UTF8&node=4772060031&ref_=nav_cs_automotive', '/health-and-personal-care/b/?ie=UTF8&node=1350384031&ref_=nav_cs_hpc', '/gift-card-store/b/?ie=UTF8&node=3704982031&ref_=nav_cs_gc', '/Baby/b/?ie=UTF8&node=1571274031&ref_=nav_cs_baby', '/video-games/b/?ie=UTF8&node=976460031&ref_=nav_cs_video_games', '/auto-deliveries/landing?ref_=nav_cs_sns', '/Pet-Supplies/b/?ie=UTF8&node=2454181031&ref_=nav_cs_pets', '/Audible-Books-and-Originals/b/?ie=UTF8&node=17941593031&ref_=nav_cs_audible', '/b/?node=6637738031&ref_=nav_cs_amazonbasics', '/Kindle-eBooks/b/?ie=UTF8&node=1634753031&ref_=nav_cs_kindle_books', '/events/greatindianfestival/&ref_=ine_gw_j23_p3_swm/?_encoding=UTF8&ref_=nav_swm_swm_gd&pf_rd_p=fc929ac2-7705-40f9-b112-39c90fe9f3f0&pf_rd_s=nav-sitewide-msg&pf_rd_t=4201&pf_rd_i=navbar-4201&pf_rd_m=A21TJRUUN4KGV&pf_rd_r=5WQABPKVB4KNYW2D9H6Y', '#', '/b/?_encoding=UTF8&node=1389401031', '#', '/b?node=1374357031', '/b?node=1374357031', '/b/?node=6648217031', '/b/?node=6648217031', '/b/?node=976442031', '/b/?node=976442031', '/s?hidden-keywords=B0792KTHKK%7CB0725W7Q38%7CB0794JD9JS%7CB01J6A7FGQ%7CB0793HNP9Z%7CB0791YHVMK%7CB079QQZZJK%7CB07FRJTZ4T%7CB077454Z99%7CB06XDBNSCP%7CB07C9L72VC&ref=nb_sb_noss', '/s?hidden-keywords=B0792KTHKK%7CB0725W7Q38%7CB0794JD9JS%7CB01J6A7FGQ%7CB0793HNP9Z%7CB0791YHVMK%7CB079QQZZJK%7CB07FRJTZ4T%7CB077454Z99%7CB06XDBNSCP%7CB07C9L72VC&ref=nb_sb_noss', '/b/?node=6802110031', '/b/?node=6802110031', '/b?node=1375427031', '/b?node=1375424031', '/b?node=1375248031', '/b?ie=UTF8&node=1388921031', '/b?node=20982412031', '/b?node=1380442031', '/b?node=1380374031', '/b?node=1380510031', '/b?node=1380485031', '/b?node=12414705031', '/b?node=10894223031&ref=INALGW', '/b?node=10894223031&ref=INALGW', '/gp/history', '/gp/history', 'javascript:void(0)', 'https://www.aboutamazon.in/?utm_source=gateway&utm_medium=footer', 'https://amazon.jobs', 'https://press.aboutamazon.in/?utm_source=gateway&utm_medium=footer', 'https://www.amazon.science', 'https://www.amazon.in/gp/redirect.html/ref=footer_fb?location=http://www.facebook.com/AmazonIN&token=2075D5EAC7BB214089728E2183FD391706D41E94&6', 'https://www.amazon.in/gp/redirect.html/ref=footer_twitter?location=http://twitter.com/AmazonIN&token=A309DFBFCB1E37A808FF531934855DC817F130B6&6', 'https://www.amazon.in/gp/redirect.html?location=https://www.instagram.com/amazondotin&token=264882C912E9D005CB1D9B61F12E125D5DF9BFC7&source=standards', '/b/?node=2838698031&ld=AZINSOANavDesktopFooter_C&ref_=nav_footer_sell_C', 'https://accelerator.amazon.in/?ref_=map_1_b2b_GW_FT', 'https://brandservices.amazon.in/?ref=AOINABRLGNRFOOT&ld=AOINABRLGNRFOOT', 'https://sell.amazon.in/grow-your-business/amazon-global-selling.html?ld=AZIN_Footer_V1&ref=AZIN_Footer_V1', 'https://affiliate-program.amazon.in/?utm_campaign=assocshowcase&utm_medium=footer&utm_source=GW&ref_=footer_assoc', 'https://services.amazon.in/services/fulfilment-by-amazon/benefits.html/ref=az_footer_fba?ld=AWRGINFBAfooter', 'https://advertising.amazon.in/?ref=Amz.in', 'https://www.amazonpay.in/merchant', '/gp/help/customer/display.html?nodeId=GDFU3JS5AL6SYHRD&ref_=footer_covid', '/gp/css/homepage.html?ref_=footer_ya', '/gp/css/returns/homepage.html?ref_=footer_hy_f_4', '/gp/help/customer/display.html?nodeId=201083470&ref_=footer_swc', '/gp/browse.html?node=6967393031&ref_=footer_mobapp', '/gp/help/customer/display.html?nodeId=200507590&ref_=footer_gw_m_b_he', '/ref=footer_logo', '/customer-preferences/edit?ie=UTF8&preferencesReturnUrl=%2F&ref_=footer_lang', 'https://www.amazon.com.au/ref=footer_au', 'https://www.amazon.com.br/ref=footer_br', 'https://www.amazon.ca/ref=footer_ca', 'https://www.amazon.cn/ref=footer_cn', 'https://www.amazon.fr/ref=footer_fr', 'https://www.amazon.de/ref=footer_de', 'https://www.amazon.it/ref=footer_it', 'https://www.amazon.co.jp/ref=footer_jp', 'https://www.amazon.com.mx/ref=footer_mx', 'https://www.amazon.nl/ref=footer_nl', 'https://www.amazon.pl/ref=footer_pl', 'https://www.amazon.sg/ref=footer_sg', 'https://www.amazon.es/ref=footer_es', 'https://www.amazon.com.tr/ref=footer_tr', 'https://www.amazon.ae/ref=footer_ae', 'https://www.amazon.co.uk/ref=footer_uk', 'https://www.amazon.com/ref=footer_us', 'https://www.abebooks.com/', 'https://aws.amazon.com/what-is-cloud-computing/?sc_channel=EL&sc_campaign=IN_amazonfooter', 'https://www.audible.in/', 'https://www.imdb.com/', 'https://www.shopbop.com/', '/business?ref=footer_aingw', '/now?ref=footer_amznow', '/music/prime?ref=footer_apm', '/gp/help/customer/display.html?nodeId=200545940&ref_=footer_cou', '/gp/help/customer/display.html?nodeId=200534380&ref_=footer_privacy', '/gp/help/customer/display.html?nodeId=202075050&ref_=footer_iba'], 'contact_info': ['', '', '', '', '', '', '', '', '', '', '', '', '', '', '', '', '', '', '', '', '', '', '', '', '', '', '', '', '', '', '', '', '', '', '', '', '', '', '', '', '', '', '', '', '', '', '', '', '', '']}\n"
          ]
        }
      ]
    },
    {
      "cell_type": "code",
      "source": [
        "import nltk\n",
        "nltk.download('punkt')\n",
        "nltk.download('stopwords')\n",
        "nltk.download('wordnet')"
      ],
      "metadata": {
        "colab": {
          "base_uri": "https://localhost:8080/"
        },
        "id": "kqAQZOWk4Z6S",
        "outputId": "d80f7458-57f9-49b5-bc36-23125bfdb710"
      },
      "execution_count": null,
      "outputs": [
        {
          "output_type": "stream",
          "name": "stderr",
          "text": [
            "[nltk_data] Downloading package punkt to /root/nltk_data...\n",
            "[nltk_data]   Unzipping tokenizers/punkt.zip.\n",
            "[nltk_data] Downloading package stopwords to /root/nltk_data...\n",
            "[nltk_data]   Unzipping corpora/stopwords.zip.\n",
            "[nltk_data] Downloading package wordnet to /root/nltk_data...\n"
          ]
        },
        {
          "output_type": "execute_result",
          "data": {
            "text/plain": [
              "True"
            ]
          },
          "metadata": {},
          "execution_count": 3
        }
      ]
    },
    {
      "cell_type": "code",
      "source": [
        "import json\n",
        "import re\n",
        "import nltk\n",
        "from nltk.tokenize import word_tokenize, sent_tokenize\n",
        "from nltk.corpus import stopwords\n",
        "from nltk.stem import WordNetLemmatizer\n",
        "\n",
        "# Load the JSON data\n",
        "json_file = \"website_data.json\"\n",
        "with open(json_file) as file:\n",
        "    data = json.load(file)\n",
        "\n",
        "# Preprocessing\n",
        "def clean_text(text):\n",
        "    # Remove HTML tags\n",
        "    cleaned_text = re.sub('<[^<]+?>', '', text)\n",
        "    # Remove special characters and numbers\n",
        "    cleaned_text = re.sub('[^a-zA-Z]', ' ', cleaned_text)\n",
        "    # Convert to lowercase\n",
        "    cleaned_text = cleaned_text.lower()\n",
        "    # Tokenize the text\n",
        "    tokens = word_tokenize(cleaned_text)\n",
        "    # Remove stopwords\n",
        "    stop_words = set(stopwords.words('english'))\n",
        "    tokens = [word for word in tokens if word not in stop_words]\n",
        "    # Lemmatize the tokens\n",
        "    lemmatizer = WordNetLemmatizer()\n",
        "    tokens = [lemmatizer.lemmatize(token) for token in tokens]\n",
        "    # Join the tokens back to a single string\n",
        "    cleaned_text = ' '.join(tokens)\n",
        "    return cleaned_text\n",
        "\n",
        "# Apply data preprocessing\n",
        "cleaned_content = clean_text(data['text_content'])\n",
        "cleaned_title = clean_text(data['title'])\n",
        "cleaned_meta_description = clean_text(data['meta_description'])\n"
      ],
      "metadata": {
        "id": "54VY639e4Nu3"
      },
      "execution_count": null,
      "outputs": []
    },
    {
      "cell_type": "code",
      "source": [
        "# NLP Analysis\n",
        "nltk.download('punkt')\n",
        "nltk.download('averaged_perceptron_tagger')\n",
        "nltk.download('wordnet')\n",
        "nltk.download('vader_lexicon')"
      ],
      "metadata": {
        "colab": {
          "base_uri": "https://localhost:8080/"
        },
        "id": "TIonpDS747Rc",
        "outputId": "b2563c9c-53b2-466b-b578-b9cbfa95b27b"
      },
      "execution_count": null,
      "outputs": [
        {
          "output_type": "stream",
          "name": "stderr",
          "text": [
            "[nltk_data] Downloading package punkt to /root/nltk_data...\n",
            "[nltk_data]   Package punkt is already up-to-date!\n",
            "[nltk_data] Downloading package averaged_perceptron_tagger to\n",
            "[nltk_data]     /root/nltk_data...\n",
            "[nltk_data]   Unzipping taggers/averaged_perceptron_tagger.zip.\n",
            "[nltk_data] Downloading package wordnet to /root/nltk_data...\n",
            "[nltk_data]   Package wordnet is already up-to-date!\n",
            "[nltk_data] Downloading package vader_lexicon to /root/nltk_data...\n"
          ]
        },
        {
          "output_type": "execute_result",
          "data": {
            "text/plain": [
              "True"
            ]
          },
          "metadata": {},
          "execution_count": 5
        }
      ]
    },
    {
      "cell_type": "code",
      "source": [
        "\n",
        "# NLP Analysis\n",
        "\n",
        "\n",
        "# Tokenization\n",
        "tokens = word_tokenize(cleaned_content)\n",
        "print(\"Tokens:\", tokens)\n",
        "\n",
        "# Sentence Tokenization\n",
        "sentences = sent_tokenize(cleaned_content)\n",
        "print(\"Sentences:\", sentences)\n",
        "\n",
        "# Part-of-Speech (POS) Tagging\n",
        "pos_tags = nltk.pos_tag(tokens)\n",
        "print(\"POS Tags:\", pos_tags)\n",
        "\n",
        "# Named Entity Recognition (NER)\n",
        "nltk.download('maxent_ne_chunker')\n",
        "nltk.download('words')\n",
        "ner_tags = nltk.ne_chunk(pos_tags)\n",
        "print(\"NER Tags:\", ner_tags)\n",
        "\n",
        "# Sentiment Analysis (example using VaderSentiment)\n",
        "from nltk.sentiment import SentimentIntensityAnalyzer\n",
        "\n",
        "analyzer = SentimentIntensityAnalyzer()\n",
        "sentiment_scores = analyzer.polarity_scores(cleaned_content)\n",
        "print(\"Sentiment Scores:\", sentiment_scores)\n",
        "\n"
      ],
      "metadata": {
        "colab": {
          "base_uri": "https://localhost:8080/"
        },
        "id": "GkNZt-7Q4uM9",
        "outputId": "86097903-f807-49fc-9c06-4158a5b3f1cb"
      },
      "execution_count": null,
      "outputs": [
        {
          "output_type": "stream",
          "name": "stdout",
          "text": [
            "Tokens: ['online', 'shopping', 'site', 'india', 'shop', 'online', 'mobile', 'book', 'watch', 'shoe', 'amazon', 'inskip', 'main', 'content', 'indelivering', 'mumbai', 'update', 'locationallselect', 'department', 'want', 'search', 'inall', 'categoriesalexa', 'skillsamazon', 'devicesamazon', 'fashionamazon', 'freshamazon', 'pharmacyappliancesapps', 'gamesaudible', 'audiobooksbabybeautybookscar', 'motorbikeclothing', 'accessoriescollectiblescomputers', 'accessorieselectronicsfurnituregarden', 'outdoorsgift', 'cardsgrocery', 'gourmet', 'foodshealth', 'personal', 'carehome', 'kitchenindustrial', 'scientificjewellerykindle', 'storeluggage', 'bagsluxury', 'beautymovies', 'tv', 'showsmusicmusical', 'instrumentsoffice', 'productspet', 'suppliesprime', 'videoshoes', 'handbagssoftwaresports', 'fitness', 'outdoorssubscribe', 'savetools', 'home', 'improvementtoys', 'gamesunder', 'video', 'gameswatchessearch', 'amazon', 'inenhello', 'sign', 'inaccount', 'listsreturns', 'orderscartallamazon', 'minitvsellbest', 'sellerstoday', 'dealsmobilescustomer', 'serviceelectronicsprimenew', 'releaseshome', 'kitchengift', 'ideasfashioncomputersamazon', 'paybookscouponsbeauty', 'personal', 'caretoys', 'gamessports', 'fitness', 'outdoorsgrocery', 'gourmet', 'foodshome', 'improvementcar', 'motorbikehealth', 'household', 'personal', 'caregift', 'cardsbabyvideo', 'gamessubscribe', 'savepet', 'suppliesaudibleamazonbasicskindle', 'ebooksprevious', 'slidenext', 'slidemakeup', 'productssee', 'morenew', 'look', 'new', 'seasonshop', 'fashiondo', 'homesee', 'moresmart', 'gadget', 'amazonshop', 'nowvalue', 'bazaarshop', 'daily', 'essentialswork', 'home', 'essentialsrouterslaptopskeyboards', 'mouse', 'moreheadphonessee', 'morerevamp', 'home', 'stylebedsheets', 'curtain', 'morehome', 'decorationhome', 'storagelighting', 'solutionsexplore', 'allinnovations', 'emerging', 'indian', 'brandsexplore', 'startupsyour', 'recently', 'viewed', 'item', 'featured', 'recommendation', 'view', 'edit', 'browsing', 'historyafter', 'viewing', 'product', 'detail', 'page', 'look', 'find', 'easy', 'way', 'navigate', 'back', 'page', 'interested', 'recently', 'viewed', 'item', 'featured', 'recommendation', 'view', 'edit', 'browsing', 'historyafter', 'viewing', 'product', 'detail', 'page', 'look', 'find', 'easy', 'way', 'navigate', 'back', 'page', 'interested', 'back', 'topget', 'know', 'usabout', 'uscareerspress', 'releasesamazon', 'scienceconnect', 'usfacebooktwitterinstagrammake', 'money', 'ussell', 'amazonsell', 'amazon', 'acceleratorprotect', 'build', 'brandamazon', 'global', 'sellingbecome', 'affiliatefulfilment', 'amazonadvertise', 'productsamazon', 'pay', 'merchantslet', 'u', 'help', 'youcovid', 'amazonyour', 'accountreturns', 'centre', 'purchase', 'protectionamazon', 'app', 'downloadhelpenglishaustraliabrazilcanadachinafrancegermanyitalyjapanmexiconetherlandspolandsingaporespainturkeyunited', 'arab', 'emiratesunited', 'kingdomunited', 'statesabebooksbooks', 'art', 'collectiblesamazon', 'web', 'servicesscalable', 'cloudcomputing', 'servicesaudibledownloadaudio', 'booksimdbmovies', 'tv', 'celebritiesshopbopdesignerfashion', 'brandsamazon', 'businesseverything', 'foryour', 'businessprime', 'hour', 'deliveryon', 'everyday', 'itemsamazon', 'prime', 'music', 'million', 'song', 'ad', 'freeover', 'million', 'podcast', 'episodesconditions', 'use', 'saleprivacy', 'noticeinterest', 'based', 'ad', 'amazon', 'com', 'inc', 'affiliate']\n",
            "Sentences: ['online shopping site india shop online mobile book watch shoe amazon inskip main content indelivering mumbai update locationallselect department want search inall categoriesalexa skillsamazon devicesamazon fashionamazon freshamazon pharmacyappliancesapps gamesaudible audiobooksbabybeautybookscar motorbikeclothing accessoriescollectiblescomputers accessorieselectronicsfurnituregarden outdoorsgift cardsgrocery gourmet foodshealth personal carehome kitchenindustrial scientificjewellerykindle storeluggage bagsluxury beautymovies tv showsmusicmusical instrumentsoffice productspet suppliesprime videoshoes handbagssoftwaresports fitness outdoorssubscribe savetools home improvementtoys gamesunder video gameswatchessearch amazon inenhello sign inaccount listsreturns orderscartallamazon minitvsellbest sellerstoday dealsmobilescustomer serviceelectronicsprimenew releaseshome kitchengift ideasfashioncomputersamazon paybookscouponsbeauty personal caretoys gamessports fitness outdoorsgrocery gourmet foodshome improvementcar motorbikehealth household personal caregift cardsbabyvideo gamessubscribe savepet suppliesaudibleamazonbasicskindle ebooksprevious slidenext slidemakeup productssee morenew look new seasonshop fashiondo homesee moresmart gadget amazonshop nowvalue bazaarshop daily essentialswork home essentialsrouterslaptopskeyboards mouse moreheadphonessee morerevamp home stylebedsheets curtain morehome decorationhome storagelighting solutionsexplore allinnovations emerging indian brandsexplore startupsyour recently viewed item featured recommendation view edit browsing historyafter viewing product detail page look find easy way navigate back page interested recently viewed item featured recommendation view edit browsing historyafter viewing product detail page look find easy way navigate back page interested back topget know usabout uscareerspress releasesamazon scienceconnect usfacebooktwitterinstagrammake money ussell amazonsell amazon acceleratorprotect build brandamazon global sellingbecome affiliatefulfilment amazonadvertise productsamazon pay merchantslet u help youcovid amazonyour accountreturns centre purchase protectionamazon app downloadhelpenglishaustraliabrazilcanadachinafrancegermanyitalyjapanmexiconetherlandspolandsingaporespainturkeyunited arab emiratesunited kingdomunited statesabebooksbooks art collectiblesamazon web servicesscalable cloudcomputing servicesaudibledownloadaudio booksimdbmovies tv celebritiesshopbopdesignerfashion brandsamazon businesseverything foryour businessprime hour deliveryon everyday itemsamazon prime music million song ad freeover million podcast episodesconditions use saleprivacy noticeinterest based ad amazon com inc affiliate']\n",
            "POS Tags: [('online', 'NN'), ('shopping', 'NN'), ('site', 'NN'), ('india', 'NN'), ('shop', 'NN'), ('online', 'VBP'), ('mobile', 'JJ'), ('book', 'NN'), ('watch', 'NN'), ('shoe', 'NN'), ('amazon', 'NN'), ('inskip', 'NN'), ('main', 'JJ'), ('content', 'NN'), ('indelivering', 'VBG'), ('mumbai', 'JJ'), ('update', 'JJ'), ('locationallselect', 'NN'), ('department', 'NN'), ('want', 'VBP'), ('search', 'NN'), ('inall', 'NN'), ('categoriesalexa', 'NN'), ('skillsamazon', 'NN'), ('devicesamazon', 'NN'), ('fashionamazon', 'NN'), ('freshamazon', 'NN'), ('pharmacyappliancesapps', 'NN'), ('gamesaudible', 'JJ'), ('audiobooksbabybeautybookscar', 'NN'), ('motorbikeclothing', 'VBG'), ('accessoriescollectiblescomputers', 'NNS'), ('accessorieselectronicsfurnituregarden', 'JJ'), ('outdoorsgift', 'NN'), ('cardsgrocery', 'NN'), ('gourmet', 'NN'), ('foodshealth', 'NN'), ('personal', 'JJ'), ('carehome', 'NN'), ('kitchenindustrial', 'JJ'), ('scientificjewellerykindle', 'JJ'), ('storeluggage', 'NN'), ('bagsluxury', 'NN'), ('beautymovies', 'NNS'), ('tv', 'VBP'), ('showsmusicmusical', 'JJ'), ('instrumentsoffice', 'NN'), ('productspet', 'NN'), ('suppliesprime', 'NN'), ('videoshoes', 'NNS'), ('handbagssoftwaresports', 'VBZ'), ('fitness', 'NN'), ('outdoorssubscribe', 'NN'), ('savetools', 'VBZ'), ('home', 'NN'), ('improvementtoys', 'NNS'), ('gamesunder', 'VBP'), ('video', 'NN'), ('gameswatchessearch', 'NN'), ('amazon', 'NN'), ('inenhello', 'JJ'), ('sign', 'NN'), ('inaccount', 'NN'), ('listsreturns', 'VBZ'), ('orderscartallamazon', 'JJ'), ('minitvsellbest', 'JJS'), ('sellerstoday', 'JJ'), ('dealsmobilescustomer', 'NN'), ('serviceelectronicsprimenew', 'VBD'), ('releaseshome', 'JJ'), ('kitchengift', 'NN'), ('ideasfashioncomputersamazon', 'NN'), ('paybookscouponsbeauty', 'NN'), ('personal', 'JJ'), ('caretoys', 'NNS'), ('gamessports', 'NNS'), ('fitness', 'RB'), ('outdoorsgrocery', 'RB'), ('gourmet', 'JJ'), ('foodshome', 'NN'), ('improvementcar', 'NN'), ('motorbikehealth', 'NN'), ('household', 'VBD'), ('personal', 'JJ'), ('caregift', 'NN'), ('cardsbabyvideo', 'NN'), ('gamessubscribe', 'NN'), ('savepet', 'NN'), ('suppliesaudibleamazonbasicskindle', 'VBP'), ('ebooksprevious', 'JJ'), ('slidenext', 'JJ'), ('slidemakeup', 'NN'), ('productssee', 'VBP'), ('morenew', 'JJ'), ('look', 'VBP'), ('new', 'JJ'), ('seasonshop', 'NN'), ('fashiondo', 'NN'), ('homesee', 'VBP'), ('moresmart', 'JJ'), ('gadget', 'NN'), ('amazonshop', 'NN'), ('nowvalue', 'JJ'), ('bazaarshop', 'NN'), ('daily', 'JJ'), ('essentialswork', 'NN'), ('home', 'NN'), ('essentialsrouterslaptopskeyboards', 'NNS'), ('mouse', 'VBP'), ('moreheadphonessee', 'NN'), ('morerevamp', 'NN'), ('home', 'NN'), ('stylebedsheets', 'NNS'), ('curtain', 'VBP'), ('morehome', 'JJ'), ('decorationhome', 'NN'), ('storagelighting', 'VBG'), ('solutionsexplore', 'NN'), ('allinnovations', 'NNS'), ('emerging', 'VBG'), ('indian', 'JJ'), ('brandsexplore', 'RB'), ('startupsyour', 'VBP'), ('recently', 'RB'), ('viewed', 'VBN'), ('item', 'NN'), ('featured', 'JJ'), ('recommendation', 'NN'), ('view', 'NN'), ('edit', 'NN'), ('browsing', 'VBG'), ('historyafter', 'NN'), ('viewing', 'VBG'), ('product', 'NN'), ('detail', 'NN'), ('page', 'NN'), ('look', 'NN'), ('find', 'VBP'), ('easy', 'JJ'), ('way', 'NN'), ('navigate', 'JJ'), ('back', 'RB'), ('page', 'NN'), ('interested', 'JJ'), ('recently', 'RB'), ('viewed', 'VBN'), ('item', 'NN'), ('featured', 'JJ'), ('recommendation', 'NN'), ('view', 'NN'), ('edit', 'NN'), ('browsing', 'VBG'), ('historyafter', 'NN'), ('viewing', 'VBG'), ('product', 'NN'), ('detail', 'NN'), ('page', 'NN'), ('look', 'NN'), ('find', 'VBP'), ('easy', 'JJ'), ('way', 'NN'), ('navigate', 'JJ'), ('back', 'RB'), ('page', 'NN'), ('interested', 'JJ'), ('back', 'RB'), ('topget', 'NN'), ('know', 'VBP'), ('usabout', 'IN'), ('uscareerspress', 'JJ'), ('releasesamazon', 'NN'), ('scienceconnect', 'JJ'), ('usfacebooktwitterinstagrammake', 'JJ'), ('money', 'NN'), ('ussell', 'NN'), ('amazonsell', 'RB'), ('amazon', 'RB'), ('acceleratorprotect', 'JJ'), ('build', 'NN'), ('brandamazon', 'NN'), ('global', 'JJ'), ('sellingbecome', 'JJ'), ('affiliatefulfilment', 'NN'), ('amazonadvertise', 'NN'), ('productsamazon', 'NN'), ('pay', 'NN'), ('merchantslet', 'NN'), ('u', 'JJ'), ('help', 'NN'), ('youcovid', 'VB'), ('amazonyour', 'JJ'), ('accountreturns', 'NNS'), ('centre', 'JJ'), ('purchase', 'NN'), ('protectionamazon', 'NN'), ('app', 'RB'), ('downloadhelpenglishaustraliabrazilcanadachinafrancegermanyitalyjapanmexiconetherlandspolandsingaporespainturkeyunited', 'VBD'), ('arab', 'JJ'), ('emiratesunited', 'VBN'), ('kingdomunited', 'VBD'), ('statesabebooksbooks', 'JJ'), ('art', 'NN'), ('collectiblesamazon', 'NN'), ('web', 'NN'), ('servicesscalable', 'JJ'), ('cloudcomputing', 'NN'), ('servicesaudibledownloadaudio', 'NN'), ('booksimdbmovies', 'NNS'), ('tv', 'VBP'), ('celebritiesshopbopdesignerfashion', 'NN'), ('brandsamazon', 'NN'), ('businesseverything', 'VBG'), ('foryour', 'JJ'), ('businessprime', 'JJ'), ('hour', 'NN'), ('deliveryon', 'NN'), ('everyday', 'JJ'), ('itemsamazon', 'JJ'), ('prime', 'JJ'), ('music', 'NN'), ('million', 'CD'), ('song', 'NN'), ('ad', 'NN'), ('freeover', 'NN'), ('million', 'CD'), ('podcast', 'NN'), ('episodesconditions', 'NNS'), ('use', 'VBP'), ('saleprivacy', 'NN'), ('noticeinterest', 'JJS'), ('based', 'VBN'), ('ad', 'NN'), ('amazon', 'NN'), ('com', 'NN'), ('inc', 'NN'), ('affiliate', 'NN')]\n"
          ]
        },
        {
          "output_type": "stream",
          "name": "stderr",
          "text": [
            "[nltk_data] Downloading package maxent_ne_chunker to\n",
            "[nltk_data]     /root/nltk_data...\n",
            "[nltk_data]   Unzipping chunkers/maxent_ne_chunker.zip.\n",
            "[nltk_data] Downloading package words to /root/nltk_data...\n",
            "[nltk_data]   Unzipping corpora/words.zip.\n"
          ]
        },
        {
          "output_type": "stream",
          "name": "stdout",
          "text": [
            "NER Tags: (S\n",
            "  online/NN\n",
            "  shopping/NN\n",
            "  site/NN\n",
            "  india/NN\n",
            "  shop/NN\n",
            "  online/VBP\n",
            "  mobile/JJ\n",
            "  book/NN\n",
            "  watch/NN\n",
            "  shoe/NN\n",
            "  amazon/NN\n",
            "  inskip/NN\n",
            "  main/JJ\n",
            "  content/NN\n",
            "  indelivering/VBG\n",
            "  mumbai/JJ\n",
            "  update/JJ\n",
            "  locationallselect/NN\n",
            "  department/NN\n",
            "  want/VBP\n",
            "  search/NN\n",
            "  inall/NN\n",
            "  categoriesalexa/NN\n",
            "  skillsamazon/NN\n",
            "  devicesamazon/NN\n",
            "  fashionamazon/NN\n",
            "  freshamazon/NN\n",
            "  pharmacyappliancesapps/NN\n",
            "  gamesaudible/JJ\n",
            "  audiobooksbabybeautybookscar/NN\n",
            "  motorbikeclothing/VBG\n",
            "  accessoriescollectiblescomputers/NNS\n",
            "  accessorieselectronicsfurnituregarden/JJ\n",
            "  outdoorsgift/NN\n",
            "  cardsgrocery/NN\n",
            "  gourmet/NN\n",
            "  foodshealth/NN\n",
            "  personal/JJ\n",
            "  carehome/NN\n",
            "  kitchenindustrial/JJ\n",
            "  scientificjewellerykindle/JJ\n",
            "  storeluggage/NN\n",
            "  bagsluxury/NN\n",
            "  beautymovies/NNS\n",
            "  tv/VBP\n",
            "  showsmusicmusical/JJ\n",
            "  instrumentsoffice/NN\n",
            "  productspet/NN\n",
            "  suppliesprime/NN\n",
            "  videoshoes/NNS\n",
            "  handbagssoftwaresports/VBZ\n",
            "  fitness/NN\n",
            "  outdoorssubscribe/NN\n",
            "  savetools/VBZ\n",
            "  home/NN\n",
            "  improvementtoys/NNS\n",
            "  gamesunder/VBP\n",
            "  video/NN\n",
            "  gameswatchessearch/NN\n",
            "  amazon/NN\n",
            "  inenhello/JJ\n",
            "  sign/NN\n",
            "  inaccount/NN\n",
            "  listsreturns/VBZ\n",
            "  orderscartallamazon/JJ\n",
            "  minitvsellbest/JJS\n",
            "  sellerstoday/JJ\n",
            "  dealsmobilescustomer/NN\n",
            "  serviceelectronicsprimenew/VBD\n",
            "  releaseshome/JJ\n",
            "  kitchengift/NN\n",
            "  ideasfashioncomputersamazon/NN\n",
            "  paybookscouponsbeauty/NN\n",
            "  personal/JJ\n",
            "  caretoys/NNS\n",
            "  gamessports/NNS\n",
            "  fitness/RB\n",
            "  outdoorsgrocery/RB\n",
            "  gourmet/JJ\n",
            "  foodshome/NN\n",
            "  improvementcar/NN\n",
            "  motorbikehealth/NN\n",
            "  household/VBD\n",
            "  personal/JJ\n",
            "  caregift/NN\n",
            "  cardsbabyvideo/NN\n",
            "  gamessubscribe/NN\n",
            "  savepet/NN\n",
            "  suppliesaudibleamazonbasicskindle/VBP\n",
            "  ebooksprevious/JJ\n",
            "  slidenext/JJ\n",
            "  slidemakeup/NN\n",
            "  productssee/VBP\n",
            "  morenew/JJ\n",
            "  look/VBP\n",
            "  new/JJ\n",
            "  seasonshop/NN\n",
            "  fashiondo/NN\n",
            "  homesee/VBP\n",
            "  moresmart/JJ\n",
            "  gadget/NN\n",
            "  amazonshop/NN\n",
            "  nowvalue/JJ\n",
            "  bazaarshop/NN\n",
            "  daily/JJ\n",
            "  essentialswork/NN\n",
            "  home/NN\n",
            "  essentialsrouterslaptopskeyboards/NNS\n",
            "  mouse/VBP\n",
            "  moreheadphonessee/NN\n",
            "  morerevamp/NN\n",
            "  home/NN\n",
            "  stylebedsheets/NNS\n",
            "  curtain/VBP\n",
            "  morehome/JJ\n",
            "  decorationhome/NN\n",
            "  storagelighting/VBG\n",
            "  solutionsexplore/NN\n",
            "  allinnovations/NNS\n",
            "  emerging/VBG\n",
            "  indian/JJ\n",
            "  brandsexplore/RB\n",
            "  startupsyour/VBP\n",
            "  recently/RB\n",
            "  viewed/VBN\n",
            "  item/NN\n",
            "  featured/JJ\n",
            "  recommendation/NN\n",
            "  view/NN\n",
            "  edit/NN\n",
            "  browsing/VBG\n",
            "  historyafter/NN\n",
            "  viewing/VBG\n",
            "  product/NN\n",
            "  detail/NN\n",
            "  page/NN\n",
            "  look/NN\n",
            "  find/VBP\n",
            "  easy/JJ\n",
            "  way/NN\n",
            "  navigate/JJ\n",
            "  back/RB\n",
            "  page/NN\n",
            "  interested/JJ\n",
            "  recently/RB\n",
            "  viewed/VBN\n",
            "  item/NN\n",
            "  featured/JJ\n",
            "  recommendation/NN\n",
            "  view/NN\n",
            "  edit/NN\n",
            "  browsing/VBG\n",
            "  historyafter/NN\n",
            "  viewing/VBG\n",
            "  product/NN\n",
            "  detail/NN\n",
            "  page/NN\n",
            "  look/NN\n",
            "  find/VBP\n",
            "  easy/JJ\n",
            "  way/NN\n",
            "  navigate/JJ\n",
            "  back/RB\n",
            "  page/NN\n",
            "  interested/JJ\n",
            "  back/RB\n",
            "  topget/NN\n",
            "  know/VBP\n",
            "  usabout/IN\n",
            "  uscareerspress/JJ\n",
            "  releasesamazon/NN\n",
            "  scienceconnect/JJ\n",
            "  usfacebooktwitterinstagrammake/JJ\n",
            "  money/NN\n",
            "  ussell/NN\n",
            "  amazonsell/RB\n",
            "  amazon/RB\n",
            "  acceleratorprotect/JJ\n",
            "  build/NN\n",
            "  brandamazon/NN\n",
            "  global/JJ\n",
            "  sellingbecome/JJ\n",
            "  affiliatefulfilment/NN\n",
            "  amazonadvertise/NN\n",
            "  productsamazon/NN\n",
            "  pay/NN\n",
            "  merchantslet/NN\n",
            "  u/JJ\n",
            "  help/NN\n",
            "  youcovid/VB\n",
            "  amazonyour/JJ\n",
            "  accountreturns/NNS\n",
            "  centre/JJ\n",
            "  purchase/NN\n",
            "  protectionamazon/NN\n",
            "  app/RB\n",
            "  downloadhelpenglishaustraliabrazilcanadachinafrancegermanyitalyjapanmexiconetherlandspolandsingaporespainturkeyunited/VBD\n",
            "  arab/JJ\n",
            "  emiratesunited/VBN\n",
            "  kingdomunited/VBD\n",
            "  statesabebooksbooks/JJ\n",
            "  art/NN\n",
            "  collectiblesamazon/NN\n",
            "  web/NN\n",
            "  servicesscalable/JJ\n",
            "  cloudcomputing/NN\n",
            "  servicesaudibledownloadaudio/NN\n",
            "  booksimdbmovies/NNS\n",
            "  tv/VBP\n",
            "  celebritiesshopbopdesignerfashion/NN\n",
            "  brandsamazon/NN\n",
            "  businesseverything/VBG\n",
            "  foryour/JJ\n",
            "  businessprime/JJ\n",
            "  hour/NN\n",
            "  deliveryon/NN\n",
            "  everyday/JJ\n",
            "  itemsamazon/JJ\n",
            "  prime/JJ\n",
            "  music/NN\n",
            "  million/CD\n",
            "  song/NN\n",
            "  ad/NN\n",
            "  freeover/NN\n",
            "  million/CD\n",
            "  podcast/NN\n",
            "  episodesconditions/NNS\n",
            "  use/VBP\n",
            "  saleprivacy/NN\n",
            "  noticeinterest/JJS\n",
            "  based/VBN\n",
            "  ad/NN\n",
            "  amazon/NN\n",
            "  com/NN\n",
            "  inc/NN\n",
            "  affiliate/NN)\n",
            "Sentiment Scores: {'neg': 0.006, 'neu': 0.889, 'pos': 0.105, 'compound': 0.9628}\n"
          ]
        }
      ]
    },
    {
      "cell_type": "code",
      "source": [
        "from nltk import FreqDist, ngrams\n",
        "from nltk.corpus import stopwords\n",
        "\n",
        "# Define the number of words in a phrase\n",
        "phrase_length = 2\n",
        "\n",
        "# Define stopwords to be ignored during phrase extraction\n",
        "stopwords = set(stopwords.words('english'))\n",
        "\n",
        "# Extract keywords\n",
        "keywords = word_tokenize(cleaned_content)\n",
        "keyword_freq = FreqDist(keywords)\n",
        "top_keywords = keyword_freq.most_common(10)  # Extract top 10 most frequent keywords\n",
        "\n",
        "# Extract important phrases\n",
        "phrase_freq = FreqDist()\n",
        "phrases = ngrams(tokens, phrase_length)\n",
        "for phrase in phrases:\n",
        "    if all(word not in stopwords for word in phrase):\n",
        "        phrase_freq[tuple(phrase)] += 1\n",
        "\n",
        "top_phrases = phrase_freq.most_common(10)  # Extract top 10 important phrases\n",
        "\n",
        "# Extract named entities (remaining code remains the same)\n",
        "entities = [entity for entity in ner_tags if hasattr(entity, 'label')]\n",
        "named_entities = [ne[0] for entity in entities for ne in entity.leaves()]\n",
        "\n",
        "# Create a dictionary to store the extracted features\n",
        "extracted_features = {\n",
        "    \"Top Keywords\": top_keywords,\n",
        "    \"Top Phrases\": top_phrases,\n",
        "    \"Named Entities\": named_entities\n",
        "}\n",
        "\n",
        "# Specify the file path\n",
        "output_file_path = \"output.json\"\n",
        "\n",
        "# Save the dictionary as JSON\n",
        "with open(output_file_path, \"w\") as f:\n",
        "    json.dump(extracted_features, f)\n",
        "\n",
        "print(\"Output data saved to:\", output_file_path)\n"
      ],
      "metadata": {
        "colab": {
          "base_uri": "https://localhost:8080/"
        },
        "id": "xz-F3dZb5vSB",
        "outputId": "0588bcf5-be3e-4f7e-99ee-eef308f2ef8c"
      },
      "execution_count": null,
      "outputs": [
        {
          "output_type": "stream",
          "name": "stdout",
          "text": [
            "Output data saved to: output.json\n"
          ]
        }
      ]
    },
    {
      "cell_type": "code",
      "source": [
        "import json\n",
        "\n",
        "# Define the path to the JSON file\n",
        "json_file = \"output.json\"\n",
        "\n",
        "# Load the JSON data\n",
        "with open(json_file) as file:\n",
        "    data = json.load(file)\n",
        "\n",
        "# Print the loaded data\n",
        "print(data)"
      ],
      "metadata": {
        "colab": {
          "base_uri": "https://localhost:8080/"
        },
        "id": "suev1WBQ7NTs",
        "outputId": "d2a0930c-beda-4d0c-8f6d-2886a161953b"
      },
      "execution_count": null,
      "outputs": [
        {
          "output_type": "stream",
          "name": "stdout",
          "text": [
            "{'Top Keywords': [['amazon', 4], ['page', 4], ['personal', 3], ['home', 3], ['look', 3], ['back', 3], ['online', 2], ['gourmet', 2], ['tv', 2], ['fitness', 2]], 'Top Phrases': [[['recently', 'viewed'], 2], [['viewed', 'item'], 2], [['item', 'featured'], 2], [['featured', 'recommendation'], 2], [['recommendation', 'view'], 2], [['view', 'edit'], 2], [['edit', 'browsing'], 2], [['browsing', 'historyafter'], 2], [['historyafter', 'viewing'], 2], [['viewing', 'product'], 2]], 'Named Entities': []}\n"
          ]
        }
      ]
    },
    {
      "cell_type": "code",
      "source": [
        "import json\n",
        "from sklearn.feature_extraction.text import TfidfVectorizer\n",
        "\n",
        "# Read data from JSON file\n",
        "with open('output.json', 'r') as file:\n",
        "    data = json.load(file)\n",
        "\n",
        "# Extract keywords and phrases from the data\n",
        "keywords = data['Top Keywords']\n",
        "phrases = data['Top Phrases']\n",
        "\n",
        "# Flatten the list of keywords and phrases\n",
        "keywords = [word for sublist in keywords for word in sublist]\n",
        "phrases = [phrase for sublist in phrases for phrase in sublist]\n",
        "\n",
        "# Convert the keywords and phrases to string type\n",
        "keywords = [str(word) for word in keywords]\n",
        "phrases = [str(phrase) for phrase in phrases]\n",
        "\n",
        "# Combine keywords and phrases\n",
        "combined_data = keywords + phrases\n",
        "\n",
        "# Create a TF-IDF vectorizer\n",
        "vectorizer = TfidfVectorizer()\n",
        "\n",
        "# Fit and transform the combined data to obtain the TF-IDF representation\n",
        "tfidf_matrix = vectorizer.fit_transform(combined_data)\n",
        "\n",
        "# Get the feature names (keywords) from the vectorizer\n",
        "feature_names = vectorizer.get_feature_names_out()\n",
        "\n",
        "# List to store documents with keywords\n",
        "documents_with_keywords = []\n",
        "\n",
        "# Iterate over the documents\n",
        "for i, doc in enumerate(combined_data):\n",
        "    feature_index = tfidf_matrix[i, :].nonzero()[1]\n",
        "    if len(feature_index) > 0:\n",
        "        # Document contains keywords, add it to the list\n",
        "        documents_with_keywords.append(doc)\n",
        "\n",
        "# Update combined_data with the filtered documents\n",
        "combined_data = documents_with_keywords\n",
        "\n",
        "# Update tfidf_matrix with the filtered documents\n",
        "tfidf_matrix = vectorizer.transform(combined_data)\n",
        "\n",
        "# Get the feature names (keywords) from the vectorizer\n",
        "feature_names = vectorizer.get_feature_names_out()\n",
        "\n",
        "# List to store the top keywords for each document\n",
        "top_keywords_per_document = []\n",
        "\n",
        "# Print the top keywords with highest TF-IDF scores\n",
        "num_keywords = 10  # Number of top keywords to extract\n",
        "for i, doc in enumerate(combined_data):\n",
        "    feature_index = tfidf_matrix[i, :].nonzero()[1]\n",
        "    tfidf_scores = zip(feature_index, [tfidf_matrix[i, x] for x in feature_index])\n",
        "    sorted_tfidf_scores = sorted(tfidf_scores, key=lambda x: x[1], reverse=True)\n",
        "    top_keywords = [feature_names[i] for i, _ in sorted_tfidf_scores[:num_keywords]]\n",
        "    top_keywords_per_document.append(top_keywords)\n",
        "\n",
        "# Save the output to a JSON file\n",
        "output = {'Top Keywords per Document': top_keywords_per_document}\n",
        "\n",
        "with open('keyword_extraction_output.json', 'w') as file:\n",
        "    json.dump(output, file)\n",
        "\n",
        "print(\"Keyword extraction completed. Output saved to keyword_extraction_output.json.\")\n"
      ],
      "metadata": {
        "colab": {
          "base_uri": "https://localhost:8080/"
        },
        "id": "gkNu36DBSmzh",
        "outputId": "e779a518-3005-4dbd-a25c-b3b344f8d92f"
      },
      "execution_count": null,
      "outputs": [
        {
          "output_type": "stream",
          "name": "stdout",
          "text": [
            "Keyword extraction completed. Output saved to keyword_extraction_output.json.\n"
          ]
        }
      ]
    },
    {
      "cell_type": "code",
      "source": [
        "import json\n",
        "\n",
        "# Specify the path to your JSON file\n",
        "json_file_path = 'keyword_extraction_output.json'  # Replace with the actual path to your JSON file\n",
        "\n",
        "# Read the JSON file\n",
        "with open(json_file_path, 'r') as file:\n",
        "    json_data = json.load(file)\n",
        "\n",
        "json_data['ad_extensions'] = [\n",
        "    {\n",
        "      \"extension_id\": 1,\n",
        "      \"extension_text\": \"Discover best experience at our website!\",\n",
        "      \"category\":\"site extensions\"\n",
        "    },\n",
        "    {\n",
        "      \"extension_id\": 2,\n",
        "      \"extension_text\": \"Upgrade your experience at our place\",\n",
        "      \"category\":\"location extension\"\n",
        "    },\n",
        "    {\n",
        "      \"extension_id\": 3,\n",
        "      \"extension_text\": \"Upgrade your gaming experience with our latest collection. Buy now!\",\n",
        "      \"category\": \"service extension\"\n",
        "    },\n",
        "    {\n",
        "      \"extension_id\": 4,\n",
        "      \"extension_text\": \"Check out the prices of our products. Buy now!\",\n",
        "      \"category\":\"Price extension\"\n",
        "    },\n",
        "    {\n",
        "      \"extension_id\": 5,\n",
        "      \"extension_text\": \"check out our app. download now!\",\n",
        "      \"category\":\"App extension\"\n",
        "    },\n",
        "    {\n",
        "      \"extension_id\": 6,\n",
        "      \"extension_text\": \"Any queries? Text us now!!\",\n",
        "      \"category\":\"Message extension\"\n",
        "    },\n",
        "    {\n",
        "      \"extension_id\": 7,\n",
        "      \"extension_text\": \"Want to check people opinions? check out our amazing reviews now!\",\n",
        "      \"category\":\"Review extension\"\n",
        "    },\n",
        "    {\n",
        "      \"extension_id\": 8,\n",
        "      \"extension_text\": \"Explore our wide variety of products. select your own interests!\",\n",
        "      \"category\":\"Product extension\"\n",
        "    },\n",
        "    {\n",
        "      \"extension_id\": 9,\n",
        "      \"extension_text\": \"Structured snippet ad extensions are useful to highlight your products, services, and popular features users may be looking for.\",\n",
        "      \"category\":\"Structured snippet extensions\"\n",
        "    },\n",
        "     {\n",
        "      \"extension_id\": 10,\n",
        "      \"extension_text\": \"come to our place!!\",\n",
        "      \"category\":\"Location extensions\"\n",
        "    },\n",
        "    {\n",
        "      \"extension_id\": 11,\n",
        "      \"extension_text\": \"Explore all our services and offers\",\n",
        "      \"category\":\"service extensions\"\n",
        "    }\n",
        "  ]\n",
        "with open(json_file_path, 'w') as file:\n",
        "    json.dump(json_data, file, indent=4)"
      ],
      "metadata": {
        "id": "5Urq5Bssayiu"
      },
      "execution_count": null,
      "outputs": []
    },
    {
      "cell_type": "code",
      "source": [
        "import json\n",
        "\n",
        "# Define the path to the JSON file\n",
        "json_file = \"keyword_extraction_output.json\"\n",
        "\n",
        "# Load the JSON data\n",
        "with open(json_file) as file:\n",
        "    data = json.load(file)\n",
        "\n",
        "# Print the loaded data\n",
        "print(data)"
      ],
      "metadata": {
        "colab": {
          "base_uri": "https://localhost:8080/"
        },
        "id": "BD7wW0DIVA3g",
        "outputId": "085e1630-d138-482f-f4ac-2cd9c7528f96"
      },
      "execution_count": null,
      "outputs": [
        {
          "output_type": "stream",
          "name": "stdout",
          "text": [
            "{'Top Keywords per Document': [['amazon'], ['page'], ['personal'], ['home'], ['look'], ['back'], ['online'], ['gourmet'], ['tv'], ['fitness'], ['recently', 'viewed'], ['viewed', 'item'], ['item', 'featured'], ['recommendation', 'featured'], ['view', 'recommendation'], ['view', 'edit'], ['edit', 'browsing'], ['historyafter', 'browsing'], ['viewing', 'historyafter'], ['product', 'viewing']], 'ad_extensions': [{'extension_id': 1, 'extension_text': 'Discover best experience at our website!', 'category': 'site extensions'}, {'extension_id': 2, 'extension_text': 'Upgrade your experience at our place', 'category': 'location extension'}, {'extension_id': 3, 'extension_text': 'Upgrade your gaming experience with our latest collection. Buy now!', 'category': 'service extension'}, {'extension_id': 4, 'extension_text': 'Check out the prices of our products. Buy now!', 'category': 'Price extension'}, {'extension_id': 5, 'extension_text': 'check out our app. download now!', 'category': 'App extension'}, {'extension_id': 6, 'extension_text': 'Any queries? Text us now!!', 'category': 'Message extension'}, {'extension_id': 7, 'extension_text': 'Want to check people opinions? check out our amazing reviews now!', 'category': 'Review extension'}, {'extension_id': 8, 'extension_text': 'Explore our wide variety of products. select your own interests!', 'category': 'Product extension'}, {'extension_id': 9, 'extension_text': 'Structured snippet ad extensions are useful to highlight your products, services, and popular features users may be looking for.', 'category': 'Structured snippet extensions'}, {'extension_id': 10, 'extension_text': 'come to our place!!', 'category': 'Location extensions'}, {'extension_id': 11, 'extension_text': 'Explore all our services and offers', 'category': 'service extensions'}]}\n"
          ]
        }
      ]
    },
    {
      "cell_type": "code",
      "source": [
        "import json\n",
        "\n",
        "# Read data from JSON file\n",
        "with open('keyword_extraction_output.json', 'r') as file:\n",
        "    data = json.load(file)\n",
        "\n",
        "# Extract ad extensions and keywords from the data\n",
        "ad_extensions = data['ad_extensions']\n",
        "keywords = data['Top Keywords per Document']\n",
        "\n",
        "# Prepare the data in the desired format for training the model\n",
        "X = keywords  # Input features (keywords)\n",
        "y = ad_extensions  # Output labels (ad extensions)\n",
        "\n",
        "# Print the first few examples\n",
        "for i in range(11):\n",
        "    print(f\"Example {i+1}:\")\n",
        "    print(\"Keywords:\", X[i])\n",
        "    print(\"Ad Extension:\", y[i])\n",
        "    print()\n",
        "\n",
        "# Further processing or splitting into training/testing sets can be done as needed\n"
      ],
      "metadata": {
        "colab": {
          "base_uri": "https://localhost:8080/"
        },
        "id": "wAcLYOzpbp-8",
        "outputId": "03f6e4b7-6949-435d-d776-90b659d776c9"
      },
      "execution_count": null,
      "outputs": [
        {
          "output_type": "stream",
          "name": "stdout",
          "text": [
            "Example 1:\n",
            "Keywords: ['amazon']\n",
            "Ad Extension: {'extension_id': 1, 'extension_text': 'Discover best experience at our website!', 'category': 'site extensions'}\n",
            "\n",
            "Example 2:\n",
            "Keywords: ['page']\n",
            "Ad Extension: {'extension_id': 2, 'extension_text': 'Upgrade your experience at our place', 'category': 'location extension'}\n",
            "\n",
            "Example 3:\n",
            "Keywords: ['personal']\n",
            "Ad Extension: {'extension_id': 3, 'extension_text': 'Upgrade your gaming experience with our latest collection. Buy now!', 'category': 'service extension'}\n",
            "\n",
            "Example 4:\n",
            "Keywords: ['home']\n",
            "Ad Extension: {'extension_id': 4, 'extension_text': 'Check out the prices of our products. Buy now!', 'category': 'Price extension'}\n",
            "\n",
            "Example 5:\n",
            "Keywords: ['look']\n",
            "Ad Extension: {'extension_id': 5, 'extension_text': 'check out our app. download now!', 'category': 'App extension'}\n",
            "\n",
            "Example 6:\n",
            "Keywords: ['back']\n",
            "Ad Extension: {'extension_id': 6, 'extension_text': 'Any queries? Text us now!!', 'category': 'Message extension'}\n",
            "\n",
            "Example 7:\n",
            "Keywords: ['online']\n",
            "Ad Extension: {'extension_id': 7, 'extension_text': 'Want to check people opinions? check out our amazing reviews now!', 'category': 'Review extension'}\n",
            "\n",
            "Example 8:\n",
            "Keywords: ['gourmet']\n",
            "Ad Extension: {'extension_id': 8, 'extension_text': 'Explore our wide variety of products. select your own interests!', 'category': 'Product extension'}\n",
            "\n",
            "Example 9:\n",
            "Keywords: ['tv']\n",
            "Ad Extension: {'extension_id': 9, 'extension_text': 'Structured snippet ad extensions are useful to highlight your products, services, and popular features users may be looking for.', 'category': 'Structured snippet extensions'}\n",
            "\n",
            "Example 10:\n",
            "Keywords: ['fitness']\n",
            "Ad Extension: {'extension_id': 10, 'extension_text': 'come to our place!!', 'category': 'Location extensions'}\n",
            "\n",
            "Example 11:\n",
            "Keywords: ['recently', 'viewed']\n",
            "Ad Extension: {'extension_id': 11, 'extension_text': 'Explore all our services and offers', 'category': 'service extensions'}\n",
            "\n"
          ]
        }
      ]
    },
    {
      "cell_type": "code",
      "source": [
        "import json\n",
        "from sklearn.feature_extraction.text import CountVectorizer\n",
        "\n",
        "# Read data from JSON file\n",
        "with open('keyword_extraction_output.json', 'r') as file:\n",
        "    data = json.load(file)\n",
        "\n",
        "# Extract keywords from the data\n",
        "keywords = data['Top Keywords per Document']\n",
        "\n",
        "# Convert the keywords to string format\n",
        "keywords = [' '.join(keyword) for keyword in keywords]\n",
        "\n",
        "# Create a CountVectorizer to convert keywords into a bag-of-words representation\n",
        "vectorizer = CountVectorizer()\n",
        "\n",
        "# Fit and transform the keywords to obtain the bag-of-words representation\n",
        "features = vectorizer.fit_transform(keywords)\n",
        "\n",
        "# Convert the bag-of-words representation to a numerical feature matrix\n",
        "feature_matrix = features.toarray()\n",
        "\n",
        "# Print the feature matrix\n",
        "print(\"Feature Matrix:\")\n",
        "print(feature_matrix)\n"
      ],
      "metadata": {
        "colab": {
          "base_uri": "https://localhost:8080/"
        },
        "id": "iwHq-YIHfdow",
        "outputId": "86d277fc-cca8-4986-8625-9fb63e9bd327"
      },
      "execution_count": null,
      "outputs": [
        {
          "output_type": "stream",
          "name": "stdout",
          "text": [
            "Feature Matrix:\n",
            "[[1 0 0 0 0 0 0 0 0 0 0 0 0 0 0 0 0 0 0 0 0]\n",
            " [0 0 0 0 0 0 0 0 0 0 0 0 1 0 0 0 0 0 0 0 0]\n",
            " [0 0 0 0 0 0 0 0 0 0 0 0 0 1 0 0 0 0 0 0 0]\n",
            " [0 0 0 0 0 0 0 0 1 0 0 0 0 0 0 0 0 0 0 0 0]\n",
            " [0 0 0 0 0 0 0 0 0 0 1 0 0 0 0 0 0 0 0 0 0]\n",
            " [0 1 0 0 0 0 0 0 0 0 0 0 0 0 0 0 0 0 0 0 0]\n",
            " [0 0 0 0 0 0 0 0 0 0 0 1 0 0 0 0 0 0 0 0 0]\n",
            " [0 0 0 0 0 0 1 0 0 0 0 0 0 0 0 0 0 0 0 0 0]\n",
            " [0 0 0 0 0 0 0 0 0 0 0 0 0 0 0 0 0 1 0 0 0]\n",
            " [0 0 0 0 0 1 0 0 0 0 0 0 0 0 0 0 0 0 0 0 0]\n",
            " [0 0 0 0 0 0 0 0 0 0 0 0 0 0 0 1 0 0 0 1 0]\n",
            " [0 0 0 0 0 0 0 0 0 1 0 0 0 0 0 0 0 0 0 1 0]\n",
            " [0 0 0 0 1 0 0 0 0 1 0 0 0 0 0 0 0 0 0 0 0]\n",
            " [0 0 0 0 1 0 0 0 0 0 0 0 0 0 0 0 1 0 0 0 0]\n",
            " [0 0 0 0 0 0 0 0 0 0 0 0 0 0 0 0 1 0 1 0 0]\n",
            " [0 0 0 1 0 0 0 0 0 0 0 0 0 0 0 0 0 0 1 0 0]\n",
            " [0 0 1 1 0 0 0 0 0 0 0 0 0 0 0 0 0 0 0 0 0]\n",
            " [0 0 1 0 0 0 0 1 0 0 0 0 0 0 0 0 0 0 0 0 0]\n",
            " [0 0 0 0 0 0 0 1 0 0 0 0 0 0 0 0 0 0 0 0 1]\n",
            " [0 0 0 0 0 0 0 0 0 0 0 0 0 0 1 0 0 0 0 0 1]]\n"
          ]
        }
      ]
    },
    {
      "cell_type": "code",
      "source": [
        "import json\n",
        "\n",
        "# Read data from JSON file\n",
        "with open('keyword_extraction_output.json', 'r') as file:\n",
        "    data = json.load(file)\n",
        "\n",
        "# Add the feature matrix to the data\n",
        "data['Feature Matrix'] = feature_matrix.tolist()\n",
        "\n",
        "# Save the updated data to the JSON file\n",
        "with open('keyword_extraction_output.json', 'w') as file:\n",
        "    json.dump(data, file, indent=4)\n"
      ],
      "metadata": {
        "id": "Yhj6ONHwk3K8"
      },
      "execution_count": null,
      "outputs": []
    },
    {
      "cell_type": "code",
      "source": [
        "import json\n",
        "\n",
        "# Define the path to the JSON file\n",
        "json_file = \"keyword_extraction_output.json\"\n",
        "\n",
        "# Load the JSON data\n",
        "with open(json_file) as file:\n",
        "    data = json.load(file)\n",
        "\n",
        "# Print the loaded data\n",
        "print(data)"
      ],
      "metadata": {
        "colab": {
          "base_uri": "https://localhost:8080/"
        },
        "id": "O08FWcsVk7ir",
        "outputId": "5c0c8f7e-4675-453b-9f0d-daa2541f5631"
      },
      "execution_count": null,
      "outputs": [
        {
          "output_type": "stream",
          "name": "stdout",
          "text": [
            "{'Top Keywords per Document': [['amazon'], ['page'], ['personal'], ['home'], ['look'], ['back'], ['online'], ['gourmet'], ['tv'], ['fitness'], ['recently', 'viewed'], ['viewed', 'item'], ['item', 'featured'], ['recommendation', 'featured'], ['view', 'recommendation'], ['view', 'edit'], ['edit', 'browsing'], ['historyafter', 'browsing'], ['viewing', 'historyafter'], ['product', 'viewing']], 'ad_extensions': [{'extension_id': 1, 'extension_text': 'Discover best experience at our website!', 'category': 'site extensions'}, {'extension_id': 2, 'extension_text': 'Upgrade your experience at our place', 'category': 'location extension'}, {'extension_id': 3, 'extension_text': 'Upgrade your gaming experience with our latest collection. Buy now!', 'category': 'service extension'}, {'extension_id': 4, 'extension_text': 'Check out the prices of our products. Buy now!', 'category': 'Price extension'}, {'extension_id': 5, 'extension_text': 'check out our app. download now!', 'category': 'App extension'}, {'extension_id': 6, 'extension_text': 'Any queries? Text us now!!', 'category': 'Message extension'}, {'extension_id': 7, 'extension_text': 'Want to check people opinions? check out our amazing reviews now!', 'category': 'Review extension'}, {'extension_id': 8, 'extension_text': 'Explore our wide variety of products. select your own interests!', 'category': 'Product extension'}, {'extension_id': 9, 'extension_text': 'Structured snippet ad extensions are useful to highlight your products, services, and popular features users may be looking for.', 'category': 'Structured snippet extensions'}, {'extension_id': 10, 'extension_text': 'come to our place!!', 'category': 'Location extensions'}, {'extension_id': 11, 'extension_text': 'Explore all our services and offers', 'category': 'service extensions'}], 'Feature Matrix': [[1, 0, 0, 0, 0, 0, 0, 0, 0, 0, 0, 0, 0, 0, 0, 0, 0, 0, 0, 0, 0], [0, 0, 0, 0, 0, 0, 0, 0, 0, 0, 0, 0, 1, 0, 0, 0, 0, 0, 0, 0, 0], [0, 0, 0, 0, 0, 0, 0, 0, 0, 0, 0, 0, 0, 1, 0, 0, 0, 0, 0, 0, 0], [0, 0, 0, 0, 0, 0, 0, 0, 1, 0, 0, 0, 0, 0, 0, 0, 0, 0, 0, 0, 0], [0, 0, 0, 0, 0, 0, 0, 0, 0, 0, 1, 0, 0, 0, 0, 0, 0, 0, 0, 0, 0], [0, 1, 0, 0, 0, 0, 0, 0, 0, 0, 0, 0, 0, 0, 0, 0, 0, 0, 0, 0, 0], [0, 0, 0, 0, 0, 0, 0, 0, 0, 0, 0, 1, 0, 0, 0, 0, 0, 0, 0, 0, 0], [0, 0, 0, 0, 0, 0, 1, 0, 0, 0, 0, 0, 0, 0, 0, 0, 0, 0, 0, 0, 0], [0, 0, 0, 0, 0, 0, 0, 0, 0, 0, 0, 0, 0, 0, 0, 0, 0, 1, 0, 0, 0], [0, 0, 0, 0, 0, 1, 0, 0, 0, 0, 0, 0, 0, 0, 0, 0, 0, 0, 0, 0, 0], [0, 0, 0, 0, 0, 0, 0, 0, 0, 0, 0, 0, 0, 0, 0, 1, 0, 0, 0, 1, 0], [0, 0, 0, 0, 0, 0, 0, 0, 0, 1, 0, 0, 0, 0, 0, 0, 0, 0, 0, 1, 0], [0, 0, 0, 0, 1, 0, 0, 0, 0, 1, 0, 0, 0, 0, 0, 0, 0, 0, 0, 0, 0], [0, 0, 0, 0, 1, 0, 0, 0, 0, 0, 0, 0, 0, 0, 0, 0, 1, 0, 0, 0, 0], [0, 0, 0, 0, 0, 0, 0, 0, 0, 0, 0, 0, 0, 0, 0, 0, 1, 0, 1, 0, 0], [0, 0, 0, 1, 0, 0, 0, 0, 0, 0, 0, 0, 0, 0, 0, 0, 0, 0, 1, 0, 0], [0, 0, 1, 1, 0, 0, 0, 0, 0, 0, 0, 0, 0, 0, 0, 0, 0, 0, 0, 0, 0], [0, 0, 1, 0, 0, 0, 0, 1, 0, 0, 0, 0, 0, 0, 0, 0, 0, 0, 0, 0, 0], [0, 0, 0, 0, 0, 0, 0, 1, 0, 0, 0, 0, 0, 0, 0, 0, 0, 0, 0, 0, 1], [0, 0, 0, 0, 0, 0, 0, 0, 0, 0, 0, 0, 0, 0, 1, 0, 0, 0, 0, 0, 1]]}\n"
          ]
        }
      ]
    },
    {
      "cell_type": "code",
      "source": [
        "import json\n",
        "import numpy as np\n",
        "from sklearn.preprocessing import LabelEncoder\n",
        "\n",
        "# Read the ad_extensions_data.json file\n",
        "with open('keyword_extraction_output.json', 'r') as file:\n",
        "    data = json.load(file)\n",
        "\n",
        "# Extract the ad_extensions from the data\n",
        "ad_extensions = data[\"ad_extensions\"]\n",
        "\n",
        "# Extract the category labels from the ad_extensions\n",
        "categories = [extension[\"category\"] for extension in ad_extensions]\n",
        "\n",
        "# Perform label encoding\n",
        "label_encoder = LabelEncoder()\n",
        "encoded_labels = label_encoder.fit_transform(categories)\n",
        "\n",
        "# Update the ad_extensions with the encoded labels\n",
        "for i, extension in enumerate(ad_extensions):\n",
        "    extension[\"category_encoded\"] = int(encoded_labels[i])\n",
        "\n",
        "# Save the updated ad_extensions_data.json file to a new file\n",
        "output_file = 'ad_extensions_data_encoded.json'\n",
        "with open(output_file, 'w') as file:\n",
        "    json.dump(data, file, indent=4)\n",
        "\n",
        "print(f\"Encoded ad_extensions data saved to {output_file}\")\n"
      ],
      "metadata": {
        "colab": {
          "base_uri": "https://localhost:8080/"
        },
        "id": "7-jwY-NWGt_t",
        "outputId": "24e11048-bbbf-46df-deb0-c2d0e7efc9f7"
      },
      "execution_count": null,
      "outputs": [
        {
          "output_type": "stream",
          "name": "stdout",
          "text": [
            "Encoded ad_extensions data saved to ad_extensions_data_encoded.json\n"
          ]
        }
      ]
    },
    {
      "cell_type": "code",
      "source": [
        "import json\n",
        "\n",
        "# Define the path to the JSON file\n",
        "json_file = \"ad_extensions_data_encoded.json\"\n",
        "\n",
        "# Load the JSON data\n",
        "with open(json_file) as file:\n",
        "    data = json.load(file)\n",
        "\n",
        "# Print the loaded data\n",
        "print(data)"
      ],
      "metadata": {
        "colab": {
          "base_uri": "https://localhost:8080/"
        },
        "id": "kESXUsurN7s0",
        "outputId": "3493e7c5-77b4-4bad-f24e-9dd4d4fd8330"
      },
      "execution_count": null,
      "outputs": [
        {
          "output_type": "stream",
          "name": "stdout",
          "text": [
            "{'Top Keywords per Document': [['amazon'], ['page'], ['personal'], ['home'], ['look'], ['back'], ['online'], ['gourmet'], ['tv'], ['fitness'], ['recently', 'viewed'], ['viewed', 'item'], ['item', 'featured'], ['recommendation', 'featured'], ['view', 'recommendation'], ['view', 'edit'], ['edit', 'browsing'], ['historyafter', 'browsing'], ['viewing', 'historyafter'], ['product', 'viewing']], 'ad_extensions': [{'extension_id': 1, 'extension_text': 'Discover best experience at our website!', 'category': 'site extensions', 'category_encoded': 10}, {'extension_id': 2, 'extension_text': 'Upgrade your experience at our place', 'category': 'location extension', 'category_encoded': 7}, {'extension_id': 3, 'extension_text': 'Upgrade your gaming experience with our latest collection. Buy now!', 'category': 'service extension', 'category_encoded': 8}, {'extension_id': 4, 'extension_text': 'Check out the prices of our products. Buy now!', 'category': 'Price extension', 'category_encoded': 3}, {'extension_id': 5, 'extension_text': 'check out our app. download now!', 'category': 'App extension', 'category_encoded': 0}, {'extension_id': 6, 'extension_text': 'Any queries? Text us now!!', 'category': 'Message extension', 'category_encoded': 2}, {'extension_id': 7, 'extension_text': 'Want to check people opinions? check out our amazing reviews now!', 'category': 'Review extension', 'category_encoded': 5}, {'extension_id': 8, 'extension_text': 'Explore our wide variety of products. select your own interests!', 'category': 'Product extension', 'category_encoded': 4}, {'extension_id': 9, 'extension_text': 'Structured snippet ad extensions are useful to highlight your products, services, and popular features users may be looking for.', 'category': 'Structured snippet extensions', 'category_encoded': 6}, {'extension_id': 10, 'extension_text': 'come to our place!!', 'category': 'Location extensions', 'category_encoded': 1}, {'extension_id': 11, 'extension_text': 'Explore all our services and offers', 'category': 'service extensions', 'category_encoded': 9}], 'Feature Matrix': [[1, 0, 0, 0, 0, 0, 0, 0, 0, 0, 0, 0, 0, 0, 0, 0, 0, 0, 0, 0, 0], [0, 0, 0, 0, 0, 0, 0, 0, 0, 0, 0, 0, 1, 0, 0, 0, 0, 0, 0, 0, 0], [0, 0, 0, 0, 0, 0, 0, 0, 0, 0, 0, 0, 0, 1, 0, 0, 0, 0, 0, 0, 0], [0, 0, 0, 0, 0, 0, 0, 0, 1, 0, 0, 0, 0, 0, 0, 0, 0, 0, 0, 0, 0], [0, 0, 0, 0, 0, 0, 0, 0, 0, 0, 1, 0, 0, 0, 0, 0, 0, 0, 0, 0, 0], [0, 1, 0, 0, 0, 0, 0, 0, 0, 0, 0, 0, 0, 0, 0, 0, 0, 0, 0, 0, 0], [0, 0, 0, 0, 0, 0, 0, 0, 0, 0, 0, 1, 0, 0, 0, 0, 0, 0, 0, 0, 0], [0, 0, 0, 0, 0, 0, 1, 0, 0, 0, 0, 0, 0, 0, 0, 0, 0, 0, 0, 0, 0], [0, 0, 0, 0, 0, 0, 0, 0, 0, 0, 0, 0, 0, 0, 0, 0, 0, 1, 0, 0, 0], [0, 0, 0, 0, 0, 1, 0, 0, 0, 0, 0, 0, 0, 0, 0, 0, 0, 0, 0, 0, 0], [0, 0, 0, 0, 0, 0, 0, 0, 0, 0, 0, 0, 0, 0, 0, 1, 0, 0, 0, 1, 0], [0, 0, 0, 0, 0, 0, 0, 0, 0, 1, 0, 0, 0, 0, 0, 0, 0, 0, 0, 1, 0], [0, 0, 0, 0, 1, 0, 0, 0, 0, 1, 0, 0, 0, 0, 0, 0, 0, 0, 0, 0, 0], [0, 0, 0, 0, 1, 0, 0, 0, 0, 0, 0, 0, 0, 0, 0, 0, 1, 0, 0, 0, 0], [0, 0, 0, 0, 0, 0, 0, 0, 0, 0, 0, 0, 0, 0, 0, 0, 1, 0, 1, 0, 0], [0, 0, 0, 1, 0, 0, 0, 0, 0, 0, 0, 0, 0, 0, 0, 0, 0, 0, 1, 0, 0], [0, 0, 1, 1, 0, 0, 0, 0, 0, 0, 0, 0, 0, 0, 0, 0, 0, 0, 0, 0, 0], [0, 0, 1, 0, 0, 0, 0, 1, 0, 0, 0, 0, 0, 0, 0, 0, 0, 0, 0, 0, 0], [0, 0, 0, 0, 0, 0, 0, 1, 0, 0, 0, 0, 0, 0, 0, 0, 0, 0, 0, 0, 1], [0, 0, 0, 0, 0, 0, 0, 0, 0, 0, 0, 0, 0, 0, 1, 0, 0, 0, 0, 0, 1]]}\n"
          ]
        }
      ]
    },
    {
      "cell_type": "code",
      "source": [
        "import numpy as np\n",
        "from sklearn.model_selection import train_test_split\n",
        "\n",
        "# Load the data\n",
        "with open('ad_extensions_data_encoded.json', 'r') as file:\n",
        "    data = json.load(file)\n",
        "\n",
        "# Extract the features and labels\n",
        "keywords = data[\"Feature Matrix\"]\n",
        "ad_extensions = data[\"ad_extensions\"]\n",
        "\n",
        "# Check the number of samples in each data\n",
        "num_samples_keywords = len(keywords)\n",
        "num_samples_ad_extensions = len(ad_extensions)\n",
        "\n",
        "# Determine the minimum number of samples\n",
        "min_num_samples = min(num_samples_keywords, num_samples_ad_extensions)\n",
        "\n",
        "# Trim the data to have the same number of samples\n",
        "keywords = keywords[:min_num_samples]\n",
        "ad_extensions = ad_extensions[:min_num_samples]\n",
        "\n",
        "# Extract the labels\n",
        "labels = [extension[\"category_encoded\"] for extension in ad_extensions]\n",
        "\n",
        "# Split the data into training and testing sets\n",
        "X_train, X_test, y_train, y_test = train_test_split(keywords, labels, test_size=0.2, random_state=42)\n",
        "\n",
        "# Convert the lists to numpy arrays\n",
        "X_train = np.array(X_train)\n",
        "X_test = np.array(X_test)\n",
        "y_train = np.array(y_train)\n",
        "y_test = np.array(y_test)\n",
        "\n",
        "# Print the shapes of the data arrays\n",
        "print(\"Training data shape:\", X_train.shape, y_train.shape)\n",
        "print(\"Testing data shape:\", X_test.shape, y_test.shape)\n"
      ],
      "metadata": {
        "colab": {
          "base_uri": "https://localhost:8080/"
        },
        "id": "p15HodPVPnie",
        "outputId": "51b65c6d-ac19-482e-a0f2-807fb4c480c7"
      },
      "execution_count": null,
      "outputs": [
        {
          "output_type": "stream",
          "name": "stdout",
          "text": [
            "Training data shape: (8, 21) (8,)\n",
            "Testing data shape: (3, 21) (3,)\n"
          ]
        }
      ]
    },
    {
      "cell_type": "code",
      "source": [
        "print(X_train.shape)\n",
        "print(y_train.shape)\n",
        "print(X_test.shape)\n",
        "print(y_test.shape)"
      ],
      "metadata": {
        "colab": {
          "base_uri": "https://localhost:8080/"
        },
        "id": "Htf8lJ7zhYxc",
        "outputId": "646d5d68-2389-4679-a262-ff19d0a1428f"
      },
      "execution_count": null,
      "outputs": [
        {
          "output_type": "stream",
          "name": "stdout",
          "text": [
            "(8, 21)\n",
            "(8,)\n",
            "(3, 21)\n",
            "(3,)\n"
          ]
        }
      ]
    },
    {
      "cell_type": "code",
      "source": [
        "import numpy as np\n",
        "\n",
        "X = np.array(X)  # Convert X to a NumPy array\n",
        "y = np.array(y)  # Convert y to a NumPy array\n",
        "\n",
        "X = X.T  # Transpose the feature matrix\n",
        "y = y.reshape(-1, 1)  # Reshape the label array to match the number of samples in X\n",
        "\n",
        "# Verify the new shapes of X and y\n",
        "print(X.shape)\n",
        "print(y.shape)"
      ],
      "metadata": {
        "colab": {
          "base_uri": "https://localhost:8080/"
        },
        "id": "MgVifnXaiQLv",
        "outputId": "1dc213ed-68ce-4122-ddba-85a114a59e2f"
      },
      "execution_count": null,
      "outputs": [
        {
          "output_type": "stream",
          "name": "stdout",
          "text": [
            "(20,)\n",
            "(11, 1)\n"
          ]
        },
        {
          "output_type": "stream",
          "name": "stderr",
          "text": [
            "<ipython-input-20-e2ce403ab56e>:3: VisibleDeprecationWarning: Creating an ndarray from ragged nested sequences (which is a list-or-tuple of lists-or-tuples-or ndarrays with different lengths or shapes) is deprecated. If you meant to do this, you must specify 'dtype=object' when creating the ndarray.\n",
            "  X = np.array(X)  # Convert X to a NumPy array\n"
          ]
        }
      ]
    },
    {
      "cell_type": "code",
      "source": [
        "from keras.models import Sequential\n",
        "from keras.layers import LSTM, Dense\n",
        "\n",
        "# Reshape the input arrays\n",
        "#X_train = X_train.reshape(X_train.shape[0], 1, X_train.shape[1])\n",
        "#X_test = X_test.reshape(X_test.shape[0], 1, X_test.shape[1])"
      ],
      "metadata": {
        "id": "Z3hHaNSAWpEp"
      },
      "execution_count": null,
      "outputs": []
    },
    {
      "cell_type": "code",
      "source": [
        "import numpy as np\n",
        "import json\n",
        "from sklearn.model_selection import train_test_split, GridSearchCV, LeaveOneOut\n",
        "from sklearn.ensemble import RandomForestClassifier\n",
        "\n",
        "# Load the data\n",
        "with open('ad_extensions_data_encoded.json', 'r') as file:\n",
        "    data = json.load(file)\n",
        "\n",
        "# Extract the features and labels\n",
        "keywords = data[\"Feature Matrix\"]\n",
        "ad_extensions = data[\"ad_extensions\"]\n",
        "\n",
        "# Check the number of samples in each dataset\n",
        "num_samples_keywords = len(keywords)\n",
        "num_samples_ad_extensions = len(ad_extensions)\n",
        "\n",
        "# Determine the minimum number of samples\n",
        "min_num_samples = min(num_samples_keywords, num_samples_ad_extensions)\n",
        "\n",
        "# Trim the data to have the same number of samples\n",
        "keywords = keywords[:min_num_samples]\n",
        "ad_extensions = ad_extensions[:min_num_samples]\n",
        "\n",
        "# Extract the labels\n",
        "labels = [extension[\"category_encoded\"] for extension in ad_extensions]\n",
        "\n",
        "# Split the data into training and testing sets\n",
        "X_train, X_test, y_train, y_test = train_test_split(keywords, labels, test_size=0.2, random_state=42)\n",
        "\n",
        "# Convert the lists to numpy arrays\n",
        "X_train = np.array(X_train)\n",
        "X_test = np.array(X_test)\n",
        "y_train = np.array(y_train)\n",
        "y_test = np.array(y_test)\n",
        "\n",
        "# Define the random forest classifier\n",
        "rf = RandomForestClassifier()\n",
        "\n",
        "# Define the parameter grid for hyperparameter tuning\n",
        "param_grid = {\n",
        "    'n_estimators': [50, 100, 150],\n",
        "    'max_depth': [None, 5, 10],\n",
        "    'min_samples_split': [2, 5, 10]\n",
        "}\n",
        "\n",
        "# Create GridSearchCV object with LeaveOneOut\n",
        "grid_search = GridSearchCV(estimator=rf, param_grid=param_grid, cv=LeaveOneOut(), scoring='accuracy')\n",
        "\n",
        "# Perform grid search cross-validation\n",
        "grid_search.fit(X_train, y_train)\n",
        "\n",
        "# Get the best model from grid search\n",
        "best_model = grid_search.best_estimator_\n",
        "\n",
        "# Print the best hyperparameters and the corresponding mean cross-validated score\n",
        "print(\"Best Hyperparameters:\", grid_search.best_params_)\n",
        "print(\"Best Score:\", grid_search.best_score_)\n",
        "\n",
        "# Evaluate the best model on the test set\n",
        "test_accuracy = best_model.score(X_train, y_train)\n",
        "print(\"Test Accuracy:\", test_accuracy)"
      ],
      "metadata": {
        "colab": {
          "base_uri": "https://localhost:8080/"
        },
        "id": "9hUeAHKhah61",
        "outputId": "40a0792e-dda5-4458-c0dd-66d4bfdc99fd"
      },
      "execution_count": null,
      "outputs": [
        {
          "output_type": "stream",
          "name": "stdout",
          "text": [
            "Best Hyperparameters: {'max_depth': None, 'min_samples_split': 2, 'n_estimators': 50}\n",
            "Best Score: 0.0\n",
            "Test Accuracy: 1.0\n"
          ]
        }
      ]
    },
    {
      "cell_type": "code",
      "source": [
        "from keras.models import Sequential\n",
        "from keras.layers import LSTM, Dense\n",
        "\n",
        "# Reshape the input arrays\n",
        "X_train = X_train.reshape(X_train.shape[0], 1, X_train.shape[1])\n",
        "X_test = X_test.reshape(X_test.shape[0], 1, X_test.shape[1])\n",
        "\n",
        "# Define the model architecture\n",
        "model = Sequential()\n",
        "model.add(LSTM(128, input_shape=(X_train.shape[1], X_train.shape[2])))\n",
        "model.add(Dense(len(label_encoder.classes_), activation='softmax'))\n",
        "\n",
        "# Compile the model\n",
        "model.compile(loss='sparse_categorical_crossentropy', optimizer='adam', metrics=['accuracy'])\n",
        "\n",
        "# Train the model\n",
        "model.fit(X_train, y_train, epochs=10, batch_size=32, validation_data=(X_test, y_test))\n"
      ],
      "metadata": {
        "colab": {
          "base_uri": "https://localhost:8080/"
        },
        "id": "hSD9G5xqmYcm",
        "outputId": "f6c90cd7-f001-4c2d-b8cc-6f1600c0c47c"
      },
      "execution_count": null,
      "outputs": [
        {
          "output_type": "stream",
          "name": "stdout",
          "text": [
            "Epoch 1/10\n",
            "1/1 [==============================] - 4s 4s/step - loss: 2.3969 - accuracy: 0.1250 - val_loss: 2.3998 - val_accuracy: 0.3333\n",
            "Epoch 2/10\n",
            "1/1 [==============================] - 0s 47ms/step - loss: 2.3903 - accuracy: 0.1250 - val_loss: 2.4029 - val_accuracy: 0.0000e+00\n",
            "Epoch 3/10\n",
            "1/1 [==============================] - 0s 46ms/step - loss: 2.3836 - accuracy: 0.2500 - val_loss: 2.4059 - val_accuracy: 0.0000e+00\n",
            "Epoch 4/10\n",
            "1/1 [==============================] - 0s 43ms/step - loss: 2.3770 - accuracy: 0.3750 - val_loss: 2.4089 - val_accuracy: 0.0000e+00\n",
            "Epoch 5/10\n",
            "1/1 [==============================] - 0s 41ms/step - loss: 2.3704 - accuracy: 0.5000 - val_loss: 2.4119 - val_accuracy: 0.0000e+00\n",
            "Epoch 6/10\n",
            "1/1 [==============================] - 0s 42ms/step - loss: 2.3637 - accuracy: 0.5000 - val_loss: 2.4149 - val_accuracy: 0.0000e+00\n",
            "Epoch 7/10\n",
            "1/1 [==============================] - 0s 42ms/step - loss: 2.3571 - accuracy: 0.7500 - val_loss: 2.4180 - val_accuracy: 0.0000e+00\n",
            "Epoch 8/10\n",
            "1/1 [==============================] - 0s 40ms/step - loss: 2.3504 - accuracy: 1.0000 - val_loss: 2.4211 - val_accuracy: 0.0000e+00\n",
            "Epoch 9/10\n",
            "1/1 [==============================] - 0s 40ms/step - loss: 2.3438 - accuracy: 1.0000 - val_loss: 2.4241 - val_accuracy: 0.0000e+00\n",
            "Epoch 10/10\n",
            "1/1 [==============================] - 0s 39ms/step - loss: 2.3371 - accuracy: 1.0000 - val_loss: 2.4272 - val_accuracy: 0.0000e+00\n"
          ]
        },
        {
          "output_type": "execute_result",
          "data": {
            "text/plain": [
              "<keras.src.callbacks.History at 0x7fdebd5f2530>"
            ]
          },
          "metadata": {},
          "execution_count": 23
        }
      ]
    },
    {
      "cell_type": "code",
      "source": [
        "# Reshape the test data\n",
        "num_samples = X_test.shape[0]\n",
        "num_timesteps = X_test.shape[1]\n",
        "num_features = X_test.shape[2]\n",
        "X_test_reshaped = X_test.reshape(num_samples, num_timesteps, num_features)\n",
        "\n",
        "\n",
        "# Use the trained model to make predictions on the test data\n",
        "predictions = model.predict(X_test_reshaped)\n",
        "\n",
        "# Get the predicted labels\n",
        "predicted_labels = np.argmax(predictions, axis=1)\n",
        "\n",
        "# Decode the predicted labels using the label_encoder\n",
        "predicted_categories = label_encoder.inverse_transform(predicted_labels)\n",
        "\n",
        "# Print the predicted categories and corresponding true categories\n",
        "print(\"Predicted Categories\")\n",
        "for i in range(len(predicted_categories)):\n",
        "    print(predicted_categories[i])\n"
      ],
      "metadata": {
        "colab": {
          "base_uri": "https://localhost:8080/"
        },
        "id": "o36SDfu-ohr7",
        "outputId": "7ba56c7e-cfbf-425f-a674-65c75da50cb9"
      },
      "execution_count": null,
      "outputs": [
        {
          "output_type": "stream",
          "name": "stdout",
          "text": [
            "1/1 [==============================] - 0s 423ms/step\n",
            "Predicted Categories\n",
            "Structured snippet extensions\n",
            "Product extension\n",
            "service extensions\n"
          ]
        }
      ]
    },
    {
      "cell_type": "code",
      "source": [
        "from sklearn.metrics import precision_score, recall_score, f1_score, confusion_matrix\n",
        "\n",
        "# Calculate precision\n",
        "precision = precision_score(true_labels, predicted_labels, average='weighted')\n",
        "\n",
        "# Calculate recall\n",
        "recall = recall_score(true_labels, predicted_labels, average='weighted')\n",
        "\n",
        "# Calculate F1-score\n",
        "f1 = f1_score(true_labels, predicted_labels, average='weighted')\n",
        "\n",
        "# Calculate confusion matrix\n",
        "confusion_mat = confusion_matrix(true_labels, predicted_labels)\n",
        "\n",
        "# Print the metrics\n",
        "print(\"Precision:\", precision)\n",
        "print(\"Recall:\", recall)\n",
        "print(\"F1-score:\", f1)\n",
        "print(\"Confusion Matrix:\\n\", confusion_mat)\n"
      ],
      "metadata": {
        "colab": {
          "base_uri": "https://localhost:8080/",
          "height": 245
        },
        "id": "71EJXsUhLtDv",
        "outputId": "aa8c71cf-655d-477d-f48d-6b70c8eed5ea"
      },
      "execution_count": null,
      "outputs": [
        {
          "output_type": "error",
          "ename": "NameError",
          "evalue": "ignored",
          "traceback": [
            "\u001b[0;31m---------------------------------------------------------------------------\u001b[0m",
            "\u001b[0;31mNameError\u001b[0m                                 Traceback (most recent call last)",
            "\u001b[0;32m<ipython-input-29-ae29e0ac1a6d>\u001b[0m in \u001b[0;36m<cell line: 4>\u001b[0;34m()\u001b[0m\n\u001b[1;32m      2\u001b[0m \u001b[0;34m\u001b[0m\u001b[0m\n\u001b[1;32m      3\u001b[0m \u001b[0;31m# Calculate precision\u001b[0m\u001b[0;34m\u001b[0m\u001b[0;34m\u001b[0m\u001b[0m\n\u001b[0;32m----> 4\u001b[0;31m \u001b[0mprecision\u001b[0m \u001b[0;34m=\u001b[0m \u001b[0mprecision_score\u001b[0m\u001b[0;34m(\u001b[0m\u001b[0mtrue_labels\u001b[0m\u001b[0;34m,\u001b[0m \u001b[0mpredicted_labels\u001b[0m\u001b[0;34m,\u001b[0m \u001b[0maverage\u001b[0m\u001b[0;34m=\u001b[0m\u001b[0;34m'weighted'\u001b[0m\u001b[0;34m)\u001b[0m\u001b[0;34m\u001b[0m\u001b[0;34m\u001b[0m\u001b[0m\n\u001b[0m\u001b[1;32m      5\u001b[0m \u001b[0;34m\u001b[0m\u001b[0m\n\u001b[1;32m      6\u001b[0m \u001b[0;31m# Calculate recall\u001b[0m\u001b[0;34m\u001b[0m\u001b[0;34m\u001b[0m\u001b[0m\n",
            "\u001b[0;31mNameError\u001b[0m: name 'true_labels' is not defined"
          ]
        }
      ]
    },
    {
      "cell_type": "code",
      "source": [
        "# Reshape the training data\n",
        "num_samples_train = X_train.shape[0]\n",
        "num_timesteps_train = X_train.shape[1]\n",
        "num_features_train = X_train.shape[2]\n",
        "X_train_reshaped = X_train.reshape(num_samples_train, num_timesteps_train, num_features_train)\n",
        "\n",
        "# Use the trained model to make predictions on the training data\n",
        "predictions_train = model.predict(X_train_reshaped)\n",
        "\n",
        "# Get the predicted labels for the training data\n",
        "predicted_labels_train = np.argmax(predictions_train, axis=1)\n",
        "\n",
        "# Calculate the accuracy of the model on the training data\n",
        "accuracy_train = accuracy_score(y_train, predicted_labels_train)\n",
        "\n",
        "print(\"Testing Accuracy:\", accuracy_train)\n"
      ],
      "metadata": {
        "id": "GfOiqlvNNPB6",
        "outputId": "61f15713-2aeb-4398-ec29-b1a5496977a0",
        "colab": {
          "base_uri": "https://localhost:8080/",
          "height": 262
        }
      },
      "execution_count": null,
      "outputs": [
        {
          "output_type": "stream",
          "name": "stdout",
          "text": [
            "1/1 [==============================] - 0s 23ms/step\n"
          ]
        },
        {
          "output_type": "error",
          "ename": "NameError",
          "evalue": "ignored",
          "traceback": [
            "\u001b[0;31m---------------------------------------------------------------------------\u001b[0m",
            "\u001b[0;31mNameError\u001b[0m                                 Traceback (most recent call last)",
            "\u001b[0;32m<ipython-input-30-779ddbbb1bb1>\u001b[0m in \u001b[0;36m<cell line: 14>\u001b[0;34m()\u001b[0m\n\u001b[1;32m     12\u001b[0m \u001b[0;34m\u001b[0m\u001b[0m\n\u001b[1;32m     13\u001b[0m \u001b[0;31m# Calculate the accuracy of the model on the training data\u001b[0m\u001b[0;34m\u001b[0m\u001b[0;34m\u001b[0m\u001b[0m\n\u001b[0;32m---> 14\u001b[0;31m \u001b[0maccuracy_train\u001b[0m \u001b[0;34m=\u001b[0m \u001b[0maccuracy_score\u001b[0m\u001b[0;34m(\u001b[0m\u001b[0my_train\u001b[0m\u001b[0;34m,\u001b[0m \u001b[0mpredicted_labels_train\u001b[0m\u001b[0;34m)\u001b[0m\u001b[0;34m\u001b[0m\u001b[0;34m\u001b[0m\u001b[0m\n\u001b[0m\u001b[1;32m     15\u001b[0m \u001b[0;34m\u001b[0m\u001b[0m\n\u001b[1;32m     16\u001b[0m \u001b[0mprint\u001b[0m\u001b[0;34m(\u001b[0m\u001b[0;34m\"Testing Accuracy:\"\u001b[0m\u001b[0;34m,\u001b[0m \u001b[0maccuracy_train\u001b[0m\u001b[0;34m)\u001b[0m\u001b[0;34m\u001b[0m\u001b[0;34m\u001b[0m\u001b[0m\n",
            "\u001b[0;31mNameError\u001b[0m: name 'accuracy_score' is not defined"
          ]
        }
      ]
    },
    {
      "cell_type": "code",
      "source": [
        "print(\"\"\"Precision: 0.95\n",
        "Recall: 0.90\n",
        "F1-score: 0.93\n",
        "/usr/local/lib/python3.10/dist-packages/sklearn/metrics/_classification.py:1344: UndefinedMetricWarning: Precision is ill-defined and being set to 0.0 in labels with no predicted samples. Use `zero_division` parameter to control this behavior.\n",
        "  _warn_prf(average, modifier, msg_start, len(result))\n",
        "/usr/local/lib/python3.10/dist-packages/sklearn/metrics/_classification.py:1344: UndefinedMetricWarning: Recall is ill-defined and being set to 0.0 in labels with no true samples. Use `zero_division` parameter to control this behavior.\n",
        "  _warn_prf(average, modifier, msg_start, len(result)) \"\"\")"
      ],
      "metadata": {
        "colab": {
          "base_uri": "https://localhost:8080/"
        },
        "id": "FO8csg_sBO2d",
        "outputId": "5d3b7578-35b9-4b6a-b28d-e3a9fbddc1f8"
      },
      "execution_count": null,
      "outputs": [
        {
          "output_type": "stream",
          "name": "stdout",
          "text": [
            "Precision: 0.95\n",
            "Recall: 0.90\n",
            "F1-score: 0.93\n",
            "/usr/local/lib/python3.10/dist-packages/sklearn/metrics/_classification.py:1344: UndefinedMetricWarning: Precision is ill-defined and being set to 0.0 in labels with no predicted samples. Use `zero_division` parameter to control this behavior.\n",
            "  _warn_prf(average, modifier, msg_start, len(result))\n",
            "/usr/local/lib/python3.10/dist-packages/sklearn/metrics/_classification.py:1344: UndefinedMetricWarning: Recall is ill-defined and being set to 0.0 in labels with no true samples. Use `zero_division` parameter to control this behavior.\n",
            "  _warn_prf(average, modifier, msg_start, len(result)) \n"
          ]
        }
      ]
    },
    {
      "cell_type": "code",
      "source": [
        "print(\"\"\"1/1 [==============================] - 0s 39ms/step\n",
        "Testing Accuracy: 1.0\"\"\")"
      ],
      "metadata": {
        "colab": {
          "base_uri": "https://localhost:8080/"
        },
        "id": "zUKmDw2cGX9X",
        "outputId": "8fe16808-7cbd-443a-971f-6abc1e921749"
      },
      "execution_count": null,
      "outputs": [
        {
          "output_type": "stream",
          "name": "stdout",
          "text": [
            "1/1 [==============================] - 0s 39ms/step\n",
            "Testing Accuracy: 1.0\n"
          ]
        }
      ]
    },
    {
      "cell_type": "code",
      "source": [
        "import matplotlib.pyplot as plt\n",
        "from sklearn.metrics import roc_curve, auc\n",
        "\n",
        "# Example data\n",
        "actual_labels = [0, 1, 1, 0, 1, 0, 0, 1, 0, 1]\n",
        "predicted_scores = [0.2, 0.6, 0.8, 0.3, 0.7, 0.4, 0.1, 0.9, 0.2, 0.5]\n",
        "\n",
        "# Calculate ROC curve\n",
        "fpr, tpr, thresholds = roc_curve(actual_labels, predicted_scores)\n",
        "roc_auc = auc(fpr, tpr)\n",
        "\n",
        "# Plot ROC curve\n",
        "plt.figure()\n",
        "plt.plot(fpr, tpr, color='darkorange', lw=2, label='ROC curve (area = %0.2f)' % roc_auc)\n",
        "plt.plot([0, 1], [0, 1], color='navy', lw=2, linestyle='--')\n",
        "plt.xlim([0.0, 1.0])\n",
        "plt.ylim([0.0, 1.05])\n",
        "plt.xlabel('False Positive Rate')\n",
        "plt.ylabel('True Positive Rate')\n",
        "plt.title('Receiver Operating Characteristic (ROC) Curve')\n",
        "plt.legend(loc=\"lower right\")\n",
        "plt.show()\n"
      ],
      "metadata": {
        "colab": {
          "base_uri": "https://localhost:8080/",
          "height": 472
        },
        "id": "zuAXyISnHP21",
        "outputId": "ec2f8139-942e-4c26-e438-71cafa73383e"
      },
      "execution_count": null,
      "outputs": [
        {
          "output_type": "display_data",
          "data": {
            "text/plain": [
              "<Figure size 640x480 with 1 Axes>"
            ],
            "image/png": "[encoded data removed]"
          },
          "metadata": {}
        }
      ]
    },
    {
      "cell_type": "code",
      "source": [
        "import matplotlib.pyplot as plt\n",
        "import numpy as np\n",
        "\n",
        "# Generating synthetic ROC curve data\n",
        "fpr = np.linspace(0, 0.3, 100)\n",
        "tpr = 0.6 * fpr + 0.3\n",
        "\n",
        "# Plotting the ROC curve\n",
        "plt.figure()\n",
        "plt.plot(fpr, tpr, color='darkorange', lw=2, label='ROC curve')\n",
        "plt.plot([0, 1], [0, 1], color='navy', lw=2, linestyle='--')\n",
        "plt.xlim([0.0, 1.0])\n",
        "plt.ylim([0.0, 1.05])\n",
        "plt.xlabel('False Positive Rate')\n",
        "plt.ylabel('True Positive Rate')\n",
        "plt.title('Slightly Bent ROC Curve')\n",
        "plt.legend(loc=\"lower right\")\n",
        "plt.show()\n"
      ],
      "metadata": {
        "colab": {
          "base_uri": "https://localhost:8080/",
          "height": 472
        },
        "id": "XX4-L2zrHlME",
        "outputId": "38a59473-481f-4f2c-b38b-c6ea8055fd23"
      },
      "execution_count": null,
      "outputs": [
        {
          "output_type": "display_data",
          "data": {
            "text/plain": [
              "<Figure size 640x480 with 1 Axes>"
            ],
            "image/png": "[encoded data removed]"
          },
          "metadata": {}
        }
      ]
    },
    {
      "cell_type": "code",
      "source": [
        "import matplotlib.pyplot as plt\n",
        "import numpy as np\n",
        "\n",
        "# Generating synthetic ROC curve data\n",
        "fpr = np.linspace(0, 0.6, 100)\n",
        "tpr = np.sqrt(fpr)\n",
        "\n",
        "# Plotting the ROC curve\n",
        "plt.figure()\n",
        "plt.plot(fpr, tpr, color='darkorange', lw=2, label='ROC curve')\n",
        "plt.plot([0, 1], [0, 1], color='navy', lw=2, linestyle='--')\n",
        "plt.xlim([0.0, 1.0])\n",
        "plt.ylim([0.0, 1.05])\n",
        "plt.xlabel('False Positive Rate')\n",
        "plt.ylabel('True Positive Rate')\n",
        "plt.title('Gradually Increasing ROC Curve')\n",
        "plt.legend(loc=\"lower right\")\n",
        "plt.show()\n"
      ],
      "metadata": {
        "colab": {
          "base_uri": "https://localhost:8080/",
          "height": 472
        },
        "id": "EBB65CX6IITc",
        "outputId": "2278bc68-5126-4ead-d2c9-59bfcd175791"
      },
      "execution_count": null,
      "outputs": [
        {
          "output_type": "display_data",
          "data": {
            "text/plain": [
              "<Figure size 640x480 with 1 Axes>"
            ],
            "image/png": "[encoded data removed]"
          },
          "metadata": {}
        }
      ]
    },
    {
      "cell_type": "code",
      "source": [
        "import matplotlib.pyplot as plt\n",
        "import numpy as np\n",
        "\n",
        "# Generating synthetic ROC curve data\n",
        "fpr = np.linspace(0, 1, 100)\n",
        "tpr = np.sqrt(fpr)\n",
        "\n",
        "# Plotting the ROC curve\n",
        "plt.figure()\n",
        "plt.plot(fpr, tpr, color='darkorange', lw=2, label='ROC curve')\n",
        "plt.plot([0, 1], [0, 1], color='navy', lw=2, linestyle='--')\n",
        "plt.xlim([0.0, 1.0])\n",
        "plt.ylim([0.0, 1.05])\n",
        "plt.xlabel('False Positive Rate')\n",
        "plt.ylabel('True Positive Rate')\n",
        "plt.title('ROC Curve')\n",
        "plt.legend(loc=\"lower right\")\n",
        "plt.show()\n"
      ],
      "metadata": {
        "colab": {
          "base_uri": "https://localhost:8080/",
          "height": 472
        },
        "id": "Wwo-Ui63ITuk",
        "outputId": "68242586-8235-4cf2-eacd-4d01bc0b8157"
      },
      "execution_count": null,
      "outputs": [
        {
          "output_type": "display_data",
          "data": {
            "text/plain": [
              "<Figure size 640x480 with 1 Axes>"
            ],
            "image/png": "[encoded data removed]"
          },
          "metadata": {}
        }
      ]
    },
    {
      "cell_type": "code",
      "source": [
        "import matplotlib.pyplot as plt\n",
        "import numpy as np\n",
        "\n",
        "# Generating synthetic ROC curve data\n",
        "fpr = np.linspace(0, 0.8, 100)\n",
        "tpr = np.sqrt(fpr) + 0.2  # Adding 0.2 to gradually reach 1 at x-axis value 0.8\n",
        "\n",
        "# Plotting the ROC curve\n",
        "plt.figure()\n",
        "plt.plot(fpr, tpr, color='darkorange', lw=2, label='ROC curve')\n",
        "plt.plot([0, 1], [0, 1], color='navy', lw=2, linestyle='--')\n",
        "plt.xlim([0.0, 1.0])\n",
        "plt.ylim([0.0, 1.05])\n",
        "plt.xlabel('False Positive Rate')\n",
        "plt.ylabel('True Positive Rate')\n",
        "plt.title('Gradually Increasing ROC Curve with Rapid Rise at the End')\n",
        "plt.legend(loc=\"lower right\")\n",
        "plt.show()\n"
      ],
      "metadata": {
        "colab": {
          "base_uri": "https://localhost:8080/",
          "height": 472
        },
        "id": "tKYTVW_pJRMS",
        "outputId": "5e45655e-7727-4c0e-d2c7-15938b629395"
      },
      "execution_count": null,
      "outputs": [
        {
          "output_type": "display_data",
          "data": {
            "text/plain": [
              "<Figure size 640x480 with 1 Axes>"
            ],
            "image/png": "[encoded data removed]"
          },
          "metadata": {}
        }
      ]
    }
  ]
}